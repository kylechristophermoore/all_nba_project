{
 "cells": [
  {
   "cell_type": "markdown",
   "metadata": {},
   "source": [
    "# COGS 118A - Final Project"
   ]
  },
  {
   "cell_type": "markdown",
   "metadata": {},
   "source": [
    "# BasketbAll-Stars\n",
    "\n",
    "## Group members\n",
    "\n",
    "- Kyle Moore | kcm004@ucsd.edu \n",
    "- Sebastian Balica | sbalica@ucsd.edu \n",
    "- Javon Maxie | jmaxie@ucsd.edu \n",
    "- Sam Woo | sdwoo@ucsd.edu "
   ]
  },
  {
   "cell_type": "markdown",
   "metadata": {},
   "source": [
    "# Abstract \n",
    "\n",
    "We will use regular season statistics of NBA players from [basketball reference](https://www.basketball-reference.com/) to predict voting results for All NBA awards. All NBA awards are highly prestigious and directly impact how much money a player can earn, as well as the betting market surrounding awards. The data will be cleaned using minute and year restrictions, and labeling whether or not a player was All NBA. Modeling will be performed with various classification methods from python’s sklearn: k nearest neighbors, support vector machines, and random forest; to determine the best prediction accuracy as well as the most impactful statistics(feature selection) a player can have. We will determine success through the classification reports including the F-Scores of each classification model due it being one of the better assessors when using imbalanced data, such as 15 All NBA players vs ~500 total players per year."
   ]
  },
  {
   "cell_type": "markdown",
   "metadata": {},
   "source": [
    "# Background\n",
    "\n",
    "The All-NBA Team is an honor given to 15 players at the end of the each season. Media members vote on the league's best players and defenders, with two guards, two forwards, and one center picked for each team. This recognition, and voting process has been happening since 1956, with experts and sports enthusiasts making predictions on which players will make the All-NBA Team based on their statistics in the previous season. Sports predictions will take into consideration the average points, rebounds, assists, steals, and blocks per game for every player, in determining who has the highest chance of being awarded. Despite these strong predictions, how the selections are made has been a matter of controversy. Currently players are chosen according to positions, however this becomes a problem when players are considered multi-positional<a name=\"golliver\"></a>[<sup>[1]</sup>](#gollivernote) or, for example, the two best players in the league are centers. One of these players will be bumped down to the second team despite being a top five player in the NBA. Using machine learning and player data, it can be decided which players really deserve to be on the All-NBA Team regardless of position. \n",
    "\n",
    "There have been lots of models, both personal and professional, that have been created to help predict anything that can happen in sports. While some of this is fan and \"stathead\" related, it also coincides with sports betting doubling in 2021<a name=\"marquardt\"></a>[<sup>[2]</sup>](#marquardtnote) and the desire to gain an edge. Being able to predict sports through statistics can also be lucrative for finding talent, such as the famous \"moneyball\" scenario of the Oakland A's. Data analytics have also completely changed the way that games are played, coached, and practiced<a name=\"cohen\"></a>[<sup>[3]</sup>](#cohennote). There have been previous attempts at using both classification and linear regression to predict NBA awards such as most valuable player(MVP), offensive and defensive players of the year(OPOY,DPOY), rookie of the year(ROY), and even whether or not someone will be inducted into the Hall of Fame.\n",
    "\n",
    "One article details the use of regression to predict the MVP by considering \"MVP share\" as a numerical target<a name=\"yoo\"></a>[<sup>[4]</sup>](#yoonote). They used the same dataset that we used in addition to their MVP voting data, and also linked to a [web scraper](https://github.com/jaebradley/basketball_reference_web_scraper). Yoo was able to acheive an accuracy of ~.83 using an XGBoost Regressor. We won't be able to use regression due to our problem being a classification problem, whether someone is on the All NBA team or not. \n",
    "\n",
    "Albert et al.<a name=\"albert\"></a>[<sup>[5]</sup>](#albertnote) used Adaboost, random forest, and multilayer perceptron classifications to predict All Star results as opposed to All NBA. They were able to achieve an accuracy ~.9. They did do a preliminary, 40-fold cross-validation sensitivity test that included other models: SVC, k-nearest neighbor, decision tree, gaussian process; but it was determined that RF, Adaboost, and MLP were the best to move forward with. We will be using one model that they chose, RF, and two models they did not, SVC and KNN. \n",
    "\n",
    "Since we are planning on predicting only whether or not a player makes All NBA as ooposed to whether they make 1st, 2nd, or 3rd team, we are hoping to achieve similar results to the projects above. A logical future step would be to predict position voted for and which team they made. We feel that All NBA is less studied yet very important due to its impact on player salaries, such as Celtic's Jayson Tatum losing out on $32.6 million due to missing All NBA<a name=\"darren\"></a>[<sup>[6]</sup>](#darrennote), as well as their overall legacy. Being able to predict these results could also help determine future salary cap considerations, trade values, betting before the lines change, and knowledge of which skills are most important for consideration."
   ]
  },
  {
   "cell_type": "markdown",
   "metadata": {},
   "source": [
    "# Problem Statement\n",
    "\n",
    "Predicting whether a player will make or not make an All NBA team using their regular season statistics. Regular season statistics include points, assists, ft%, etc. and are very quantifiable due to the nature of sport statistics. The All NBA results will be the class labels (0/1). There are many machine learning classification options that can be applied and tuned to this problem (we will use KNN/SVM/RF/Logistic Regression). We can test the accuracy on test seasons after creating the models on training seasons. Due to the annual nature of the NBA, this problem is repeatable and the model will be applicable to future seasons. "
   ]
  },
  {
   "cell_type": "markdown",
   "metadata": {},
   "source": [
    "# Data\n",
    "\n",
    "\n",
    "- Link to data\n",
    "    - [Web Scraping and Data Cleaning Notebook](web_scraper_and_cleaning.ipynb)\n",
    "    - Obtained from https://www.basketball-reference.com/\n",
    "- Size of the data\n",
    "    - After cleaning and merging the shape is (11586, 30), 30 variables with 11,586 observations\n",
    "- Each observation contains:\n",
    "    - A Player's stats for a single season\n",
    "    - With variables:\n",
    "        - 'Pos'\n",
    "            - Position\n",
    "        - 'Age'\n",
    "            - Age\n",
    "        - 'Tm'\n",
    "            - Team\n",
    "        - 'G'\n",
    "            - Games played\n",
    "        - 'GS'\n",
    "            - Games started\n",
    "        - 'MP'\n",
    "            - Minutes played per game\n",
    "        - 'FG'\n",
    "            - Field goals made per game\n",
    "        - 'FGA'\n",
    "            - Fiedl goals attempted per game\n",
    "        - 'FG%'\n",
    "            - Field goal percentage\n",
    "        - '3P'\n",
    "            - 3 pointers made per game\n",
    "        - '3PA'\n",
    "            - 3 pointers attempted per game\n",
    "        - '3P%'\n",
    "            - 3 point percentage\n",
    "        - '2P'\n",
    "            - 2 pointers made per game\n",
    "        - '2PA'\n",
    "            - 2 pointers attempted per game\n",
    "        - '2P%'\n",
    "            - 2 point percentage\n",
    "        - 'eFG%'\n",
    "            - (2pt FGM + 1.5*3pt FGM) / FGA\n",
    "            - Effective field goal percentage, includes value of a 3 vs a 2 pointer\n",
    "        - 'FT'\n",
    "            - Free throws made per game\n",
    "        - 'FTA'\n",
    "            - Free throws attempted per game\n",
    "        - 'FT%'\n",
    "            - Free throw percentage\n",
    "        - 'ORB'\n",
    "            - Offensive rebound per game\n",
    "        - 'DRB'\n",
    "            - Defensive rebound per game\n",
    "        - 'TRB'\n",
    "            - Total rebounds per game\n",
    "        - 'AST'\n",
    "            - Assists per game\n",
    "        - 'STL'\n",
    "            - Steals per game\n",
    "        - 'BLK'\n",
    "            - Blocks per game\n",
    "        - 'TOV'\n",
    "            - Turnovers per game\n",
    "        - 'PF'\n",
    "            - Personal fouls per game\n",
    "        - 'PTS'\n",
    "            - Points per game\n",
    "        - 'Year'\n",
    "            - Year the season ended in\n",
    "        - 'all_nba_team'\n",
    "            - All NBA team results\n",
    "- Critical variables\n",
    "    - Because All NBA takes into account a players entire seasons performance, all of these statistics are important for determining voting results. After some initial testing we will determine most important features based on correlation and predictive power.\n",
    "- Handling, transformations, cleaning, etc:\n",
    "    - Gathering, cleaning, and transformations also in notebook linked above.\n",
    "    - General steps taken:\n",
    "        - Use BeautifulSoup to scrape yearly stats from basketball-reference.com and download their All NBA results csv\n",
    "        - Clean both player stats and All NBA results dataframes\n",
    "        - Merge dataframes together for use in modeling"
   ]
  },
  {
   "cell_type": "code",
   "execution_count": 1,
   "metadata": {},
   "outputs": [],
   "source": [
    "# import all necessary packages and formulas\n",
    "\n",
    "import pandas as pd\n",
    "import numpy as np\n",
    "\n",
    "import matplotlib.pyplot as plt\n",
    "import seaborn as sns\n",
    "\n",
    "from sklearn.pipeline import Pipeline\n",
    "from sklearn.preprocessing import StandardScaler\n",
    "from sklearn.dummy import DummyClassifier\n",
    "from sklearn import svm\n",
    "\n",
    "from sklearn.neighbors import KNeighborsClassifier\n",
    "from sklearn.model_selection import validation_curve\n",
    "from sklearn.model_selection import GridSearchCV, RandomizedSearchCV\n",
    "from sklearn.model_selection import train_test_split\n",
    "from sklearn.linear_model import LogisticRegression\n",
    "from sklearn.ensemble import RandomForestClassifier\n",
    "from sklearn.ensemble import GradientBoostingClassifier\n",
    "\n",
    "from sklearn.metrics import *\n",
    "\n",
    "import warnings\n",
    "warnings.simplefilter(action='ignore', category=FutureWarning)\n",
    "from pandas.core.common import SettingWithCopyWarning\n",
    "warnings.simplefilter(action=\"ignore\", category=SettingWithCopyWarning)"
   ]
  },
  {
   "cell_type": "code",
   "execution_count": 2,
   "metadata": {},
   "outputs": [],
   "source": [
    "# Run our notebook to generate the dataframe\n",
    "\n",
    "%run web_scraper_and_cleaning.ipynb"
   ]
  },
  {
   "cell_type": "markdown",
   "metadata": {},
   "source": [
    "[Link to Web Scraping and Data Cleaning Notebook](web_scraper_and_cleaning.ipynb)"
   ]
  },
  {
   "cell_type": "code",
   "execution_count": 3,
   "metadata": {},
   "outputs": [],
   "source": [
    "# Assign dataframe to the merged dataframe created in the web scraping notebook\n",
    "\n",
    "df = merged_df"
   ]
  },
  {
   "cell_type": "code",
   "execution_count": 4,
   "metadata": {},
   "outputs": [
    {
     "name": "stdout",
     "output_type": "stream",
     "text": [
      "The shape of the dataframe is: (11586, 30)\n",
      "The columns of the dataframe are: \n",
      " ['Pos', 'Age', 'Tm', 'G', 'GS', 'MP', 'FG', 'FGA', 'FG%', '3P', '3PA', '3P%', '2P', '2PA', '2P%', 'eFG%', 'FT', 'FTA', 'FT%', 'ORB', 'DRB', 'TRB', 'AST', 'STL', 'BLK', 'TOV', 'PF', 'PTS', 'Year', 'all_nba_team']\n"
     ]
    }
   ],
   "source": [
    "print('The shape of the dataframe is:', df.shape)\n",
    "print('The columns of the dataframe are: \\n', [x for x in df.columns])"
   ]
  },
  {
   "cell_type": "code",
   "execution_count": 5,
   "metadata": {},
   "outputs": [],
   "source": [
    "# create column of class labels, 1 for All NBA, 0 for not\n",
    "\n",
    "df['all_nba'] = np.where(df['all_nba_team'] >= 1, 1, 0)"
   ]
  },
  {
   "cell_type": "markdown",
   "metadata": {},
   "source": [
    "# Proposed Solution\n",
    "\n",
    "Our soultion to our problem statement is to train a model on a set of various basketball statistics from players that have made All NBA in the past. We will use stats from players from 1989-1900 season all the way to the 2020-2021 season. The reason we will not used stats from before 1989 is because there were only 2 All NBA teams selected. After 1989 the league started selecting three All NBA teams. Using libraries such as pandas, numpy, and scikit learn, we would like to test various models on our set of basketball statistics in order to get a preditiction of whether or not a player should make All NBA team or not. Some of the models we are planning to test our solution on are logistic regression, random forest, KNN, and SVM to start. Using model selection we will be able to see how the different models we use on our data stack up against one another. From there we will be able to determine which model performs the best.  The solution to our model will be reproducible because as more and more NBA season happen we will be able to not only makes predictions on who should make All NBA, but also add the stats for the players that do make All NBA teams in the future to make our model stronger. "
   ]
  },
  {
   "cell_type": "markdown",
   "metadata": {},
   "source": [
    "# Evaluation Metrics\n",
    "\n",
    "One way we will evaluate the success of our models will be through the use of an accuracy score from the sklearn library. This will allows us to gauge how well our models are peforming when it comes to the predicting whether or not a player meets the criteria to be selected to an All NBA team. Another way we will evaluate the success of our models is by looking at there precision and recall, as well as ROC AUC scores which will help us see how the models handle the class imbalance. Using those scores we can also go ahead and calculate the F1-scores for each model to really solidify our idea of which model performs the best. F score is a great metric for imbalanced classes such as ours. In order to look at our models on the variable scale and see how each player statistic effects the overall model, we will be using sklearn's classification report. Theses reports will allow us to see the precision and recall scores for each variable in the training set of our models. From here we may be able to derive new models and drop certain player statistics from our training set that are holding our models back with low scores to see if we can improve the overall accuracy of our models.  "
   ]
  },
  {
   "cell_type": "markdown",
   "metadata": {},
   "source": [
    "# Results"
   ]
  },
  {
   "cell_type": "markdown",
   "metadata": {},
   "source": [
    "## EDA"
   ]
  },
  {
   "cell_type": "code",
   "execution_count": 6,
   "metadata": {},
   "outputs": [],
   "source": [
    "all_nba_true = ['Nikola Jokić','Giannis Antetokounmpo','Jayson Tatum','Luka Dončić','Devin Booker',\n",
    "                'Joel Embiid','Kevin Duran','DeMar DeRoza','Ja Morant','Stephen Curry',\n",
    "                'Karl-Anthony Towns','LeBron James','Pascal Siakam','Chris Paul','Trae Young']"
   ]
  },
  {
   "cell_type": "code",
   "execution_count": 7,
   "metadata": {},
   "outputs": [],
   "source": [
    "# add a points per game column\n",
    "df['PTS/G'] = (df.PTS / df.G).round(decimals=1)"
   ]
  },
  {
   "cell_type": "code",
   "execution_count": 8,
   "metadata": {},
   "outputs": [],
   "source": [
    "# gather numeric columns\n",
    "\n",
    "numeric_columns = ['Age', 'G', 'GS', 'MP', 'FG', '3P', 'eFG%', 'FT', 'TRB', 'AST', \n",
    "                   'STL', 'BLK', 'TOV', 'PF', 'PTS', 'PTS/G', 'all_nba']"
   ]
  },
  {
   "cell_type": "code",
   "execution_count": 9,
   "metadata": {
    "scrolled": false
   },
   "outputs": [
    {
     "data": {
      "text/plain": [
       "<AxesSubplot:>"
      ]
     },
     "execution_count": 9,
     "metadata": {},
     "output_type": "execute_result"
    },
    {
     "data": {
      "image/png": "[encoded data removed]",
      "text/plain": [
       "<Figure size 842.4x595.44 with 2 Axes>"
      ]
     },
     "metadata": {},
     "output_type": "display_data"
    }
   ],
   "source": [
    "sns.set(rc={'figure.figsize':(11.7,8.27)})\n",
    "sns.heatmap(df.corr())"
   ]
  },
  {
   "cell_type": "markdown",
   "metadata": {},
   "source": [
    "### Feature Subset Using Domain Knowledge\n",
    "\n",
    "We can see that there is redundant data and some unnecessary substats. We can remove some of this redundancy as well as look into regularization in our models to prevent complexity.\n",
    "\n",
    "- Total rebounds(TRB) can be kept allowing us to remove the offensive and defensive subcategories\n",
    "    - There is a defensive All NBA team where DRB might be more important but is not as relevant for our use case.\n",
    "- Effective field goal percentage (eFG%) is a better measure and a combination of 2P% and 3P% based on their values\n",
    "- Attempts aren't needed because that will be encompassed in shots made for FG and 3P in combination with eFG%\n",
    "- Free throws made (FT) is also able to cover the volume of the FT categories according to the correlation plot\n",
    "- The way the game is played has changed considerably over the years so subestting the years into eras might be necessary to better predict current voting and playing trends"
   ]
  },
  {
   "cell_type": "code",
   "execution_count": 10,
   "metadata": {
    "scrolled": true
   },
   "outputs": [],
   "source": [
    "df = df.drop(['FGA', 'FG%', '3PA', '3P%', '2P', '2PA', '2P%', 'FT%', 'FTA', 'ORB', 'DRB'], axis=1)"
   ]
  },
  {
   "cell_type": "markdown",
   "metadata": {},
   "source": [
    "At a quick glance it appears that FG, FT, TOV, PTS, and PTS/G have the highest correlation with all_nba. Turnovers is interesting because it is a negative statistic and is possibly due to top players having high usage and therefore more likely to be involved in turnovers. Plotting the distributions along with some descriptive statistics below will help."
   ]
  },
  {
   "cell_type": "code",
   "execution_count": 11,
   "metadata": {
    "scrolled": false
   },
   "outputs": [
    {
     "data": {
      "image/png": "[encoded data removed]",
      "text/plain": [
       "<Figure size 504x360 with 1 Axes>"
      ]
     },
     "metadata": {},
     "output_type": "display_data"
    },
    {
     "data": {
      "image/png": "[encoded data removed]",
      "text/plain": [
       "<Figure size 504x360 with 1 Axes>"
      ]
     },
     "metadata": {},
     "output_type": "display_data"
    },
    {
     "data": {
      "image/png": "[encoded data removed]",
      "text/plain": [
       "<Figure size 504x360 with 1 Axes>"
      ]
     },
     "metadata": {},
     "output_type": "display_data"
    },
    {
     "data": {
      "image/png": "[encoded data removed]",
      "text/plain": [
       "<Figure size 504x360 with 1 Axes>"
      ]
     },
     "metadata": {},
     "output_type": "display_data"
    }
   ],
   "source": [
    "corr_stats = ['FG', 'FT', 'TOV', 'PTS/G']\n",
    "\n",
    "sns.set(rc={'figure.figsize':(7,5)})\n",
    "\n",
    "for stat in corr_stats:\n",
    "    plt.figure()\n",
    "    sns.regplot(stat, 'all_nba', data=df, logistic=True, ci=None).set(title='Logistic Regression Distribution for ' + stat,\n",
    "                                                                      ylabel = 'Probability of All NBA')\n",
    "    plt.axvline(df[stat].quantile(.99), color='orange', ls='--', label = '99th Percentile')\n",
    "    plt.axvline(df[stat].quantile(.75), color='red', ls='--', label = '75th Percentile')\n",
    "    plt.axvline(df[stat].mean(), color='blue', ls='--', label = 'Mean')\n",
    "    plt.legend()"
   ]
  },
  {
   "cell_type": "markdown",
   "metadata": {},
   "source": [
    "Plotting the scatter plots along with the probabilities for the stats that appear highly correlated shows that even when you are a player in the 99th percentile you only have an 80% probability of making the All NBA, showing its exclusivity. We can also see that having high turnovers isn't necessarily increasing the probability of being voted All NBA even though it has correlation.\n",
    "\n",
    "We can see that most of our All NBA team players are at least over the mean. Since defense can also get you onto All NBA as well as overall scoring increasing with time, it makes sense that many players would still make the cut with lower scoring.\n",
    "\n",
    "Because it is a voting result where many top players will be similar statistically, using probabilities will make the results more accurate and more interpretable than hard classification, but both will be checked."
   ]
  },
  {
   "cell_type": "markdown",
   "metadata": {},
   "source": [
    "## Baseline Classification"
   ]
  },
  {
   "cell_type": "code",
   "execution_count": 12,
   "metadata": {},
   "outputs": [],
   "source": [
    "# Split dataset\n",
    "\n",
    "X_train, X_test, y_train, y_test = train_test_split(df[numeric_columns].drop(columns='all_nba')[df.Year != 2022], \n",
    "                                                    df.all_nba[df.Year != 2022], \n",
    "    test_size=.33, random_state=42, stratify=df.all_nba[df.Year != 2022])"
   ]
  },
  {
   "cell_type": "code",
   "execution_count": 13,
   "metadata": {},
   "outputs": [
    {
     "name": "stdout",
     "output_type": "stream",
     "text": [
      "The shape of the X_train is: (7495, 16)\n",
      "The shape of the X_test is: (3693, 16)\n",
      "The shape of the y_train is: (7495,)\n",
      "The shape of the y_test is: (3693,)\n"
     ]
    }
   ],
   "source": [
    "print('The shape of the X_train is:', X_train.shape)\n",
    "print('The shape of the X_test is:', X_test.shape)\n",
    "print('The shape of the y_train is:', y_train.shape)\n",
    "print('The shape of the y_test is:', y_test.shape)"
   ]
  },
  {
   "cell_type": "code",
   "execution_count": 14,
   "metadata": {},
   "outputs": [],
   "source": [
    "# dummy classifiers\n",
    "\n",
    "dummy_clf = DummyClassifier(strategy='most_frequent').fit(df[numeric_columns].drop(columns='all_nba')[df.Year != 2022],\n",
    "                                                          df.all_nba[df.Year != 2022])\n",
    "stratified_dummy_clf = DummyClassifier(strategy='stratified').fit(df[numeric_columns].drop(columns='all_nba')[df.Year != 2022],\n",
    "                                                          df.all_nba[df.Year != 2022])"
   ]
  },
  {
   "cell_type": "code",
   "execution_count": 15,
   "metadata": {},
   "outputs": [
    {
     "data": {
      "text/plain": [
       "DummyClassifier(strategy='stratified')"
      ]
     },
     "execution_count": 15,
     "metadata": {},
     "output_type": "execute_result"
    }
   ],
   "source": [
    "dummy_clf.fit(X_train, y_train)\n",
    "stratified_dummy_clf.fit(X_train, y_train)"
   ]
  },
  {
   "cell_type": "code",
   "execution_count": 16,
   "metadata": {
    "scrolled": true
   },
   "outputs": [
    {
     "name": "stdout",
     "output_type": "stream",
     "text": [
      "Most frequent class guessing in baseline gives: 0.9558624424587057\n",
      "Stratified class guessing in baseline gives: 0.9206607094503114\n"
     ]
    }
   ],
   "source": [
    "print('Most frequent class guessing in baseline gives: ' + str(dummy_clf.score(X_test, y_test)))\n",
    "print('Stratified class guessing in baseline gives: ' + str(stratified_dummy_clf.score(X_test, y_test)))"
   ]
  },
  {
   "cell_type": "markdown",
   "metadata": {},
   "source": [
    "Because of our imbalanced classes where only 15 players a year are in class 1, using a dummy classifier to guess class 0 every time gives us a 95.6% accuracy score and stratifying based on class rations in the training set gives us a 91.3% accuracy score. We will use these as our targets to beat for our models when predicting the 2022 All NBA results.\n",
    "\n",
    "We must remember that accuracy score is not a good metric for our endgoal. Getting most of the players correct is the most important aspect of our model, a good model will be over 95.6% base accuracy though so it is an important check."
   ]
  },
  {
   "cell_type": "markdown",
   "metadata": {},
   "source": [
    "## Single Classifier Grid Searches and Results"
   ]
  },
  {
   "cell_type": "markdown",
   "metadata": {},
   "source": [
    "[Model selection notebook](model_selection.ipynb)"
   ]
  },
  {
   "cell_type": "markdown",
   "metadata": {},
   "source": [
    "In the above notebook, we tried different classifiers: random forest, support vector, logistic regression, and k-nearest neighbors; before attempting to do a mutliclass grid search to better understand the effects of their hyperparamaters and to see their differences in performance.\n",
    "\n",
    "KNN performs the worst but still decently. The other classifiers all have similar performances and leave out and include similar players. The use of probabilities allows us to better see how our models are predicting."
   ]
  },
  {
   "cell_type": "markdown",
   "metadata": {},
   "source": [
    "## Multiple Classifier Grid Search"
   ]
  },
  {
   "cell_type": "code",
   "execution_count": 17,
   "metadata": {},
   "outputs": [],
   "source": [
    "# estimators for grid search\n",
    "\n",
    "rf_clf = RandomForestClassifier(random_state=42)\n",
    "sv_clf = svm.SVC(probability=True, random_state=42)\n",
    "log_clf = LogisticRegression(random_state=42)\n",
    "knn_clf = KNeighborsClassifier()"
   ]
  },
  {
   "cell_type": "code",
   "execution_count": 18,
   "metadata": {},
   "outputs": [],
   "source": [
    "# Initiaze the hyperparameters for each dictionary\n",
    "\n",
    "\n",
    "rf_param = {}\n",
    "rf_param['classifier__n_estimators'] = [10, 50, 100, 250, 500]\n",
    "rf_param['classifier__max_depth'] = [5, 10, 20]\n",
    "rf_param['classifier__max_features'] = ['auto', 'sqrt', 'log2']\n",
    "rf_param['classifier__class_weight'] = [None, 'balanced', {0:1,1:5}, {0:1,1:10}, {0:1,1:25}]\n",
    "rf_param['classifier'] = [rf_clf]\n",
    "\n",
    "sv_param = {}\n",
    "sv_param['classifier__C'] = np.logspace(-2, 2, 5)\n",
    "sv_param['classifier__class_weight'] = [None, 'balanced', {0:1,1:5}, {0:1,1:10}, {0:1,1:25}]\n",
    "sv_param['classifier__gamma'] = np.logspace(-2, 2, 5)\n",
    "sv_param['classifier__kernel'] = ['linear', 'rbf']\n",
    "sv_param['classifier'] = [sv_clf]\n",
    "\n",
    "log_param = {}\n",
    "log_param['classifier__C'] = [10**-2, 10**-1, 10**0, 10**1, 10**2]\n",
    "log_param['classifier__penalty'] = ['none', 'l2']\n",
    "log_param['classifier__class_weight'] = [None, 'balanced', {0:1,1:5}, {0:1,1:10}, {0:1,1:25}]\n",
    "log_param['classifier'] = [log_clf]\n",
    "\n",
    "knn_param = {}\n",
    "knn_param['classifier__n_neighbors'] = list(range(1, 31,2))\n",
    "knn_param['classifier'] = [knn_clf]"
   ]
  },
  {
   "cell_type": "code",
   "execution_count": 19,
   "metadata": {},
   "outputs": [],
   "source": [
    "pipeline = Pipeline([('scaler', StandardScaler()), ('classifier', rf_clf)])\n",
    "params = [rf_param, knn_param, sv_param, log_param]"
   ]
  },
  {
   "cell_type": "code",
   "execution_count": 20,
   "metadata": {},
   "outputs": [
    {
     "name": "stdout",
     "output_type": "stream",
     "text": [
      "Fitting 3 folds for each of 540 candidates, totalling 1620 fits\n",
      "Wall time: 6min 30s\n"
     ]
    }
   ],
   "source": [
    "%%time\n",
    "\n",
    "# Train the grid search model\n",
    "gs = GridSearchCV(pipeline, params, cv=3, n_jobs=-1, scoring='f1_micro', verbose=3).fit(X_train, y_train)"
   ]
  },
  {
   "cell_type": "code",
   "execution_count": 21,
   "metadata": {},
   "outputs": [
    {
     "data": {
      "text/plain": [
       "{'classifier': LogisticRegression(C=1, random_state=42),\n",
       " 'classifier__C': 1,\n",
       " 'classifier__class_weight': None,\n",
       " 'classifier__penalty': 'l2'}"
      ]
     },
     "execution_count": 21,
     "metadata": {},
     "output_type": "execute_result"
    }
   ],
   "source": [
    "gs.best_params_"
   ]
  },
  {
   "cell_type": "code",
   "execution_count": 22,
   "metadata": {},
   "outputs": [
    {
     "data": {
      "text/plain": [
       "0.9763842553301011"
      ]
     },
     "execution_count": 22,
     "metadata": {},
     "output_type": "execute_result"
    }
   ],
   "source": [
    "gs.best_score_"
   ]
  },
  {
   "cell_type": "code",
   "execution_count": 23,
   "metadata": {
    "scrolled": true
   },
   "outputs": [
    {
     "name": "stdout",
     "output_type": "stream",
     "text": [
      "Precision: 0.6073619631901841\n",
      "Recall: 0.8319327731092437\n",
      "ROC AUC Score: 0.9070128331130999\n"
     ]
    }
   ],
   "source": [
    "# Test set metric scores\n",
    "\n",
    "print(\"Precision:\",precision_score(gs.predict(X_test), y_test))\n",
    "print(\"Recall:\",recall_score(gs.predict(X_test), y_test))\n",
    "print(\"ROC AUC Score:\",roc_auc_score(gs.predict(X_test), y_test))"
   ]
  },
  {
   "cell_type": "code",
   "execution_count": 24,
   "metadata": {},
   "outputs": [],
   "source": [
    "# New dataframe containing only 2022\n",
    "\n",
    "df_2022 = df[df['Year']==2022]"
   ]
  },
  {
   "cell_type": "code",
   "execution_count": 25,
   "metadata": {},
   "outputs": [
    {
     "data": {
      "text/html": [
       "<div>\n",
       "<style scoped>\n",
       "    .dataframe tbody tr th:only-of-type {\n",
       "        vertical-align: middle;\n",
       "    }\n",
       "\n",
       "    .dataframe tbody tr th {\n",
       "        vertical-align: top;\n",
       "    }\n",
       "\n",
       "    .dataframe thead th {\n",
       "        text-align: right;\n",
       "    }\n",
       "</style>\n",
       "<table border=\"1\" class=\"dataframe\">\n",
       "  <thead>\n",
       "    <tr style=\"text-align: right;\">\n",
       "      <th></th>\n",
       "      <th>all_nba</th>\n",
       "      <th>all_nba_pred</th>\n",
       "    </tr>\n",
       "    <tr>\n",
       "      <th>Player</th>\n",
       "      <th></th>\n",
       "      <th></th>\n",
       "    </tr>\n",
       "  </thead>\n",
       "  <tbody>\n",
       "    <tr>\n",
       "      <th>Giannis Antetokounmpo</th>\n",
       "      <td>1</td>\n",
       "      <td>1</td>\n",
       "    </tr>\n",
       "    <tr>\n",
       "      <th>Jimmy Butler</th>\n",
       "      <td>0</td>\n",
       "      <td>1</td>\n",
       "    </tr>\n",
       "    <tr>\n",
       "      <th>Stephen Curry</th>\n",
       "      <td>1</td>\n",
       "      <td>1</td>\n",
       "    </tr>\n",
       "    <tr>\n",
       "      <th>DeMar DeRozan</th>\n",
       "      <td>1</td>\n",
       "      <td>1</td>\n",
       "    </tr>\n",
       "    <tr>\n",
       "      <th>Luka Dončić</th>\n",
       "      <td>1</td>\n",
       "      <td>1</td>\n",
       "    </tr>\n",
       "    <tr>\n",
       "      <th>Kevin Durant</th>\n",
       "      <td>1</td>\n",
       "      <td>1</td>\n",
       "    </tr>\n",
       "    <tr>\n",
       "      <th>Joel Embiid</th>\n",
       "      <td>1</td>\n",
       "      <td>1</td>\n",
       "    </tr>\n",
       "    <tr>\n",
       "      <th>Rudy Gobert</th>\n",
       "      <td>0</td>\n",
       "      <td>1</td>\n",
       "    </tr>\n",
       "    <tr>\n",
       "      <th>James Harden</th>\n",
       "      <td>0</td>\n",
       "      <td>1</td>\n",
       "    </tr>\n",
       "    <tr>\n",
       "      <th>LeBron James</th>\n",
       "      <td>1</td>\n",
       "      <td>1</td>\n",
       "    </tr>\n",
       "    <tr>\n",
       "      <th>Nikola Jokić</th>\n",
       "      <td>1</td>\n",
       "      <td>1</td>\n",
       "    </tr>\n",
       "    <tr>\n",
       "      <th>Ja Morant</th>\n",
       "      <td>1</td>\n",
       "      <td>1</td>\n",
       "    </tr>\n",
       "    <tr>\n",
       "      <th>Dejounte Murray</th>\n",
       "      <td>0</td>\n",
       "      <td>1</td>\n",
       "    </tr>\n",
       "    <tr>\n",
       "      <th>Jayson Tatum</th>\n",
       "      <td>1</td>\n",
       "      <td>1</td>\n",
       "    </tr>\n",
       "    <tr>\n",
       "      <th>Karl-Anthony Towns</th>\n",
       "      <td>1</td>\n",
       "      <td>1</td>\n",
       "    </tr>\n",
       "    <tr>\n",
       "      <th>Trae Young</th>\n",
       "      <td>1</td>\n",
       "      <td>1</td>\n",
       "    </tr>\n",
       "  </tbody>\n",
       "</table>\n",
       "</div>"
      ],
      "text/plain": [
       "                       all_nba  all_nba_pred\n",
       "Player                                      \n",
       "Giannis Antetokounmpo        1             1\n",
       "Jimmy Butler                 0             1\n",
       "Stephen Curry                1             1\n",
       "DeMar DeRozan                1             1\n",
       "Luka Dončić                  1             1\n",
       "Kevin Durant                 1             1\n",
       "Joel Embiid                  1             1\n",
       "Rudy Gobert                  0             1\n",
       "James Harden                 0             1\n",
       "LeBron James                 1             1\n",
       "Nikola Jokić                 1             1\n",
       "Ja Morant                    1             1\n",
       "Dejounte Murray              0             1\n",
       "Jayson Tatum                 1             1\n",
       "Karl-Anthony Towns           1             1\n",
       "Trae Young                   1             1"
      ]
     },
     "execution_count": 25,
     "metadata": {},
     "output_type": "execute_result"
    }
   ],
   "source": [
    "df_2022['all_nba_pred'] = gs.predict(df_2022[numeric_columns].drop(columns='all_nba'))\n",
    "\n",
    "df_2022[df_2022['all_nba_pred'] == 1][['all_nba', 'all_nba_pred']].head(30)"
   ]
  },
  {
   "cell_type": "code",
   "execution_count": 26,
   "metadata": {
    "scrolled": false
   },
   "outputs": [
    {
     "data": {
      "text/html": [
       "<div>\n",
       "<style scoped>\n",
       "    .dataframe tbody tr th:only-of-type {\n",
       "        vertical-align: middle;\n",
       "    }\n",
       "\n",
       "    .dataframe tbody tr th {\n",
       "        vertical-align: top;\n",
       "    }\n",
       "\n",
       "    .dataframe thead th {\n",
       "        text-align: right;\n",
       "    }\n",
       "</style>\n",
       "<table border=\"1\" class=\"dataframe\">\n",
       "  <thead>\n",
       "    <tr style=\"text-align: right;\">\n",
       "      <th></th>\n",
       "      <th>all_nba</th>\n",
       "      <th>all_nba_pred</th>\n",
       "      <th>all_nba_prob</th>\n",
       "    </tr>\n",
       "    <tr>\n",
       "      <th>Player</th>\n",
       "      <th></th>\n",
       "      <th></th>\n",
       "      <th></th>\n",
       "    </tr>\n",
       "  </thead>\n",
       "  <tbody>\n",
       "    <tr>\n",
       "      <th>Nikola Jokić</th>\n",
       "      <td>1</td>\n",
       "      <td>1</td>\n",
       "      <td>0.998992</td>\n",
       "    </tr>\n",
       "    <tr>\n",
       "      <th>Giannis Antetokounmpo</th>\n",
       "      <td>1</td>\n",
       "      <td>1</td>\n",
       "      <td>0.997481</td>\n",
       "    </tr>\n",
       "    <tr>\n",
       "      <th>Joel Embiid</th>\n",
       "      <td>1</td>\n",
       "      <td>1</td>\n",
       "      <td>0.996834</td>\n",
       "    </tr>\n",
       "    <tr>\n",
       "      <th>LeBron James</th>\n",
       "      <td>1</td>\n",
       "      <td>1</td>\n",
       "      <td>0.985448</td>\n",
       "    </tr>\n",
       "    <tr>\n",
       "      <th>Kevin Durant</th>\n",
       "      <td>1</td>\n",
       "      <td>1</td>\n",
       "      <td>0.973960</td>\n",
       "    </tr>\n",
       "    <tr>\n",
       "      <th>Trae Young</th>\n",
       "      <td>1</td>\n",
       "      <td>1</td>\n",
       "      <td>0.954173</td>\n",
       "    </tr>\n",
       "    <tr>\n",
       "      <th>Luka Dončić</th>\n",
       "      <td>1</td>\n",
       "      <td>1</td>\n",
       "      <td>0.937541</td>\n",
       "    </tr>\n",
       "    <tr>\n",
       "      <th>DeMar DeRozan</th>\n",
       "      <td>1</td>\n",
       "      <td>1</td>\n",
       "      <td>0.918279</td>\n",
       "    </tr>\n",
       "    <tr>\n",
       "      <th>Rudy Gobert</th>\n",
       "      <td>0</td>\n",
       "      <td>1</td>\n",
       "      <td>0.901379</td>\n",
       "    </tr>\n",
       "    <tr>\n",
       "      <th>James Harden</th>\n",
       "      <td>0</td>\n",
       "      <td>1</td>\n",
       "      <td>0.882338</td>\n",
       "    </tr>\n",
       "    <tr>\n",
       "      <th>Karl-Anthony Towns</th>\n",
       "      <td>1</td>\n",
       "      <td>1</td>\n",
       "      <td>0.796274</td>\n",
       "    </tr>\n",
       "    <tr>\n",
       "      <th>Jayson Tatum</th>\n",
       "      <td>1</td>\n",
       "      <td>1</td>\n",
       "      <td>0.760049</td>\n",
       "    </tr>\n",
       "    <tr>\n",
       "      <th>Dejounte Murray</th>\n",
       "      <td>0</td>\n",
       "      <td>1</td>\n",
       "      <td>0.752327</td>\n",
       "    </tr>\n",
       "    <tr>\n",
       "      <th>Stephen Curry</th>\n",
       "      <td>1</td>\n",
       "      <td>1</td>\n",
       "      <td>0.712221</td>\n",
       "    </tr>\n",
       "    <tr>\n",
       "      <th>Ja Morant</th>\n",
       "      <td>1</td>\n",
       "      <td>1</td>\n",
       "      <td>0.661739</td>\n",
       "    </tr>\n",
       "    <tr>\n",
       "      <th>Jimmy Butler</th>\n",
       "      <td>0</td>\n",
       "      <td>1</td>\n",
       "      <td>0.562911</td>\n",
       "    </tr>\n",
       "    <tr>\n",
       "      <th>Chris Paul</th>\n",
       "      <td>1</td>\n",
       "      <td>0</td>\n",
       "      <td>0.474655</td>\n",
       "    </tr>\n",
       "    <tr>\n",
       "      <th>Devin Booker</th>\n",
       "      <td>1</td>\n",
       "      <td>0</td>\n",
       "      <td>0.453821</td>\n",
       "    </tr>\n",
       "    <tr>\n",
       "      <th>Pascal Siakam</th>\n",
       "      <td>1</td>\n",
       "      <td>0</td>\n",
       "      <td>0.444738</td>\n",
       "    </tr>\n",
       "    <tr>\n",
       "      <th>Domantas Sabonis</th>\n",
       "      <td>0</td>\n",
       "      <td>0</td>\n",
       "      <td>0.383573</td>\n",
       "    </tr>\n",
       "  </tbody>\n",
       "</table>\n",
       "</div>"
      ],
      "text/plain": [
       "                       all_nba  all_nba_pred  all_nba_prob\n",
       "Player                                                    \n",
       "Nikola Jokić                 1             1      0.998992\n",
       "Giannis Antetokounmpo        1             1      0.997481\n",
       "Joel Embiid                  1             1      0.996834\n",
       "LeBron James                 1             1      0.985448\n",
       "Kevin Durant                 1             1      0.973960\n",
       "Trae Young                   1             1      0.954173\n",
       "Luka Dončić                  1             1      0.937541\n",
       "DeMar DeRozan                1             1      0.918279\n",
       "Rudy Gobert                  0             1      0.901379\n",
       "James Harden                 0             1      0.882338\n",
       "Karl-Anthony Towns           1             1      0.796274\n",
       "Jayson Tatum                 1             1      0.760049\n",
       "Dejounte Murray              0             1      0.752327\n",
       "Stephen Curry                1             1      0.712221\n",
       "Ja Morant                    1             1      0.661739\n",
       "Jimmy Butler                 0             1      0.562911\n",
       "Chris Paul                   1             0      0.474655\n",
       "Devin Booker                 1             0      0.453821\n",
       "Pascal Siakam                1             0      0.444738\n",
       "Domantas Sabonis             0             0      0.383573"
      ]
     },
     "execution_count": 26,
     "metadata": {},
     "output_type": "execute_result"
    }
   ],
   "source": [
    "df_2022['all_nba_prob'] = gs.predict_proba(df_2022[numeric_columns].drop(columns='all_nba'))[:,1]\n",
    "\n",
    "df_2022[['all_nba', 'all_nba_pred', 'all_nba_prob']].sort_values('all_nba_prob', ascending = False).head(20)"
   ]
  },
  {
   "cell_type": "markdown",
   "metadata": {},
   "source": [
    "## Era Adjustment"
   ]
  },
  {
   "cell_type": "code",
   "execution_count": 30,
   "metadata": {},
   "outputs": [],
   "source": [
    "# Split dataset using more recent seasons\n",
    "\n",
    "X_train, X_test, y_train, y_test = train_test_split(df[numeric_columns].drop(columns='all_nba')[(df.Year > 2000) & (df.Year < 2022)], \n",
    "                                                    df.all_nba[(df.Year > 2000) & (df.Year < 2022)], \n",
    "    test_size=.33, random_state=42, stratify=df.all_nba[(df.Year > 2000) & (df.Year < 2022)])"
   ]
  },
  {
   "cell_type": "code",
   "execution_count": 31,
   "metadata": {},
   "outputs": [],
   "source": [
    "LogisticRegression(C=1, class_weight = None, penalty = 'l2', random_state=42)\n",
    "\n",
    "pipe = pipeline = Pipeline([('scaler', StandardScaler()), \n",
    "                            ('logistic', LogisticRegression(C=1, class_weight = None, penalty = 'l2', random_state=42))])"
   ]
  },
  {
   "cell_type": "code",
   "execution_count": 32,
   "metadata": {},
   "outputs": [],
   "source": [
    "era_log = pipe.fit(X_train, y_train)"
   ]
  },
  {
   "cell_type": "code",
   "execution_count": 35,
   "metadata": {
    "scrolled": true
   },
   "outputs": [
    {
     "name": "stdout",
     "output_type": "stream",
     "text": [
      "Precision: 0.6442307692307693\n",
      "Recall: 0.7444444444444445\n",
      "ROC AUC Score: 0.8644556395186118\n"
     ]
    }
   ],
   "source": [
    "# Test set metric scores\n",
    "\n",
    "print(\"Precision:\",precision_score(era_log.predict(X_test), y_test))\n",
    "print(\"Recall:\",recall_score(era_log.predict(X_test), y_test))\n",
    "print(\"ROC AUC Score:\",roc_auc_score(era_log.predict(X_test), y_test))"
   ]
  },
  {
   "cell_type": "code",
   "execution_count": 36,
   "metadata": {},
   "outputs": [],
   "source": [
    "# New dataframe containing only 2022\n",
    "\n",
    "df_2022 = df[df['Year']==2022]"
   ]
  },
  {
   "cell_type": "code",
   "execution_count": 37,
   "metadata": {},
   "outputs": [
    {
     "data": {
      "text/html": [
       "<div>\n",
       "<style scoped>\n",
       "    .dataframe tbody tr th:only-of-type {\n",
       "        vertical-align: middle;\n",
       "    }\n",
       "\n",
       "    .dataframe tbody tr th {\n",
       "        vertical-align: top;\n",
       "    }\n",
       "\n",
       "    .dataframe thead th {\n",
       "        text-align: right;\n",
       "    }\n",
       "</style>\n",
       "<table border=\"1\" class=\"dataframe\">\n",
       "  <thead>\n",
       "    <tr style=\"text-align: right;\">\n",
       "      <th></th>\n",
       "      <th>all_nba</th>\n",
       "      <th>all_nba_pred</th>\n",
       "    </tr>\n",
       "    <tr>\n",
       "      <th>Player</th>\n",
       "      <th></th>\n",
       "      <th></th>\n",
       "    </tr>\n",
       "  </thead>\n",
       "  <tbody>\n",
       "    <tr>\n",
       "      <th>Giannis Antetokounmpo</th>\n",
       "      <td>1</td>\n",
       "      <td>1</td>\n",
       "    </tr>\n",
       "    <tr>\n",
       "      <th>Jimmy Butler</th>\n",
       "      <td>0</td>\n",
       "      <td>1</td>\n",
       "    </tr>\n",
       "    <tr>\n",
       "      <th>Stephen Curry</th>\n",
       "      <td>1</td>\n",
       "      <td>1</td>\n",
       "    </tr>\n",
       "    <tr>\n",
       "      <th>DeMar DeRozan</th>\n",
       "      <td>1</td>\n",
       "      <td>1</td>\n",
       "    </tr>\n",
       "    <tr>\n",
       "      <th>Luka Dončić</th>\n",
       "      <td>1</td>\n",
       "      <td>1</td>\n",
       "    </tr>\n",
       "    <tr>\n",
       "      <th>Kevin Durant</th>\n",
       "      <td>1</td>\n",
       "      <td>1</td>\n",
       "    </tr>\n",
       "    <tr>\n",
       "      <th>Joel Embiid</th>\n",
       "      <td>1</td>\n",
       "      <td>1</td>\n",
       "    </tr>\n",
       "    <tr>\n",
       "      <th>Rudy Gobert</th>\n",
       "      <td>0</td>\n",
       "      <td>1</td>\n",
       "    </tr>\n",
       "    <tr>\n",
       "      <th>James Harden</th>\n",
       "      <td>0</td>\n",
       "      <td>1</td>\n",
       "    </tr>\n",
       "    <tr>\n",
       "      <th>LeBron James</th>\n",
       "      <td>1</td>\n",
       "      <td>1</td>\n",
       "    </tr>\n",
       "    <tr>\n",
       "      <th>Nikola Jokić</th>\n",
       "      <td>1</td>\n",
       "      <td>1</td>\n",
       "    </tr>\n",
       "    <tr>\n",
       "      <th>Ja Morant</th>\n",
       "      <td>1</td>\n",
       "      <td>1</td>\n",
       "    </tr>\n",
       "    <tr>\n",
       "      <th>Dejounte Murray</th>\n",
       "      <td>0</td>\n",
       "      <td>1</td>\n",
       "    </tr>\n",
       "    <tr>\n",
       "      <th>Chris Paul</th>\n",
       "      <td>1</td>\n",
       "      <td>1</td>\n",
       "    </tr>\n",
       "    <tr>\n",
       "      <th>Jayson Tatum</th>\n",
       "      <td>1</td>\n",
       "      <td>1</td>\n",
       "    </tr>\n",
       "    <tr>\n",
       "      <th>Karl-Anthony Towns</th>\n",
       "      <td>1</td>\n",
       "      <td>1</td>\n",
       "    </tr>\n",
       "    <tr>\n",
       "      <th>Trae Young</th>\n",
       "      <td>1</td>\n",
       "      <td>1</td>\n",
       "    </tr>\n",
       "  </tbody>\n",
       "</table>\n",
       "</div>"
      ],
      "text/plain": [
       "                       all_nba  all_nba_pred\n",
       "Player                                      \n",
       "Giannis Antetokounmpo        1             1\n",
       "Jimmy Butler                 0             1\n",
       "Stephen Curry                1             1\n",
       "DeMar DeRozan                1             1\n",
       "Luka Dončić                  1             1\n",
       "Kevin Durant                 1             1\n",
       "Joel Embiid                  1             1\n",
       "Rudy Gobert                  0             1\n",
       "James Harden                 0             1\n",
       "LeBron James                 1             1\n",
       "Nikola Jokić                 1             1\n",
       "Ja Morant                    1             1\n",
       "Dejounte Murray              0             1\n",
       "Chris Paul                   1             1\n",
       "Jayson Tatum                 1             1\n",
       "Karl-Anthony Towns           1             1\n",
       "Trae Young                   1             1"
      ]
     },
     "execution_count": 37,
     "metadata": {},
     "output_type": "execute_result"
    }
   ],
   "source": [
    "df_2022['all_nba_pred'] = era_log.predict(df_2022[numeric_columns].drop(columns='all_nba'))\n",
    "\n",
    "df_2022[df_2022['all_nba_pred'] == 1][['all_nba', 'all_nba_pred']].head(30)"
   ]
  },
  {
   "cell_type": "code",
   "execution_count": 38,
   "metadata": {
    "scrolled": false
   },
   "outputs": [
    {
     "data": {
      "text/html": [
       "<div>\n",
       "<style scoped>\n",
       "    .dataframe tbody tr th:only-of-type {\n",
       "        vertical-align: middle;\n",
       "    }\n",
       "\n",
       "    .dataframe tbody tr th {\n",
       "        vertical-align: top;\n",
       "    }\n",
       "\n",
       "    .dataframe thead th {\n",
       "        text-align: right;\n",
       "    }\n",
       "</style>\n",
       "<table border=\"1\" class=\"dataframe\">\n",
       "  <thead>\n",
       "    <tr style=\"text-align: right;\">\n",
       "      <th></th>\n",
       "      <th>all_nba</th>\n",
       "      <th>all_nba_pred</th>\n",
       "      <th>all_nba_prob</th>\n",
       "    </tr>\n",
       "    <tr>\n",
       "      <th>Player</th>\n",
       "      <th></th>\n",
       "      <th></th>\n",
       "      <th></th>\n",
       "    </tr>\n",
       "  </thead>\n",
       "  <tbody>\n",
       "    <tr>\n",
       "      <th>Nikola Jokić</th>\n",
       "      <td>1</td>\n",
       "      <td>1</td>\n",
       "      <td>0.998077</td>\n",
       "    </tr>\n",
       "    <tr>\n",
       "      <th>Giannis Antetokounmpo</th>\n",
       "      <td>1</td>\n",
       "      <td>1</td>\n",
       "      <td>0.997704</td>\n",
       "    </tr>\n",
       "    <tr>\n",
       "      <th>Joel Embiid</th>\n",
       "      <td>1</td>\n",
       "      <td>1</td>\n",
       "      <td>0.996961</td>\n",
       "    </tr>\n",
       "    <tr>\n",
       "      <th>LeBron James</th>\n",
       "      <td>1</td>\n",
       "      <td>1</td>\n",
       "      <td>0.965794</td>\n",
       "    </tr>\n",
       "    <tr>\n",
       "      <th>Kevin Durant</th>\n",
       "      <td>1</td>\n",
       "      <td>1</td>\n",
       "      <td>0.958897</td>\n",
       "    </tr>\n",
       "    <tr>\n",
       "      <th>Trae Young</th>\n",
       "      <td>1</td>\n",
       "      <td>1</td>\n",
       "      <td>0.955925</td>\n",
       "    </tr>\n",
       "    <tr>\n",
       "      <th>DeMar DeRozan</th>\n",
       "      <td>1</td>\n",
       "      <td>1</td>\n",
       "      <td>0.946684</td>\n",
       "    </tr>\n",
       "    <tr>\n",
       "      <th>Rudy Gobert</th>\n",
       "      <td>0</td>\n",
       "      <td>1</td>\n",
       "      <td>0.886563</td>\n",
       "    </tr>\n",
       "    <tr>\n",
       "      <th>James Harden</th>\n",
       "      <td>0</td>\n",
       "      <td>1</td>\n",
       "      <td>0.872257</td>\n",
       "    </tr>\n",
       "    <tr>\n",
       "      <th>Luka Dončić</th>\n",
       "      <td>1</td>\n",
       "      <td>1</td>\n",
       "      <td>0.867498</td>\n",
       "    </tr>\n",
       "    <tr>\n",
       "      <th>Dejounte Murray</th>\n",
       "      <td>0</td>\n",
       "      <td>1</td>\n",
       "      <td>0.760748</td>\n",
       "    </tr>\n",
       "    <tr>\n",
       "      <th>Karl-Anthony Towns</th>\n",
       "      <td>1</td>\n",
       "      <td>1</td>\n",
       "      <td>0.706951</td>\n",
       "    </tr>\n",
       "    <tr>\n",
       "      <th>Chris Paul</th>\n",
       "      <td>1</td>\n",
       "      <td>1</td>\n",
       "      <td>0.667309</td>\n",
       "    </tr>\n",
       "    <tr>\n",
       "      <th>Jimmy Butler</th>\n",
       "      <td>0</td>\n",
       "      <td>1</td>\n",
       "      <td>0.639320</td>\n",
       "    </tr>\n",
       "    <tr>\n",
       "      <th>Jayson Tatum</th>\n",
       "      <td>1</td>\n",
       "      <td>1</td>\n",
       "      <td>0.631865</td>\n",
       "    </tr>\n",
       "    <tr>\n",
       "      <th>Ja Morant</th>\n",
       "      <td>1</td>\n",
       "      <td>1</td>\n",
       "      <td>0.589114</td>\n",
       "    </tr>\n",
       "    <tr>\n",
       "      <th>Stephen Curry</th>\n",
       "      <td>1</td>\n",
       "      <td>1</td>\n",
       "      <td>0.510121</td>\n",
       "    </tr>\n",
       "    <tr>\n",
       "      <th>Devin Booker</th>\n",
       "      <td>1</td>\n",
       "      <td>0</td>\n",
       "      <td>0.393712</td>\n",
       "    </tr>\n",
       "    <tr>\n",
       "      <th>Pascal Siakam</th>\n",
       "      <td>1</td>\n",
       "      <td>0</td>\n",
       "      <td>0.370474</td>\n",
       "    </tr>\n",
       "    <tr>\n",
       "      <th>Anthony Davis</th>\n",
       "      <td>0</td>\n",
       "      <td>0</td>\n",
       "      <td>0.328719</td>\n",
       "    </tr>\n",
       "  </tbody>\n",
       "</table>\n",
       "</div>"
      ],
      "text/plain": [
       "                       all_nba  all_nba_pred  all_nba_prob\n",
       "Player                                                    \n",
       "Nikola Jokić                 1             1      0.998077\n",
       "Giannis Antetokounmpo        1             1      0.997704\n",
       "Joel Embiid                  1             1      0.996961\n",
       "LeBron James                 1             1      0.965794\n",
       "Kevin Durant                 1             1      0.958897\n",
       "Trae Young                   1             1      0.955925\n",
       "DeMar DeRozan                1             1      0.946684\n",
       "Rudy Gobert                  0             1      0.886563\n",
       "James Harden                 0             1      0.872257\n",
       "Luka Dončić                  1             1      0.867498\n",
       "Dejounte Murray              0             1      0.760748\n",
       "Karl-Anthony Towns           1             1      0.706951\n",
       "Chris Paul                   1             1      0.667309\n",
       "Jimmy Butler                 0             1      0.639320\n",
       "Jayson Tatum                 1             1      0.631865\n",
       "Ja Morant                    1             1      0.589114\n",
       "Stephen Curry                1             1      0.510121\n",
       "Devin Booker                 1             0      0.393712\n",
       "Pascal Siakam                1             0      0.370474\n",
       "Anthony Davis                0             0      0.328719"
      ]
     },
     "execution_count": 38,
     "metadata": {},
     "output_type": "execute_result"
    }
   ],
   "source": [
    "df_2022['all_nba_prob'] = era_log.predict_proba(df_2022[numeric_columns].drop(columns='all_nba'))[:,1]\n",
    "\n",
    "df_2022[['all_nba', 'all_nba_pred', 'all_nba_prob']].sort_values('all_nba_prob', ascending = False).head(20)"
   ]
  },
  {
   "cell_type": "markdown",
   "metadata": {},
   "source": [
    "Choosing the 2000 season as an arbitrary cutoff yielded similar results as the more inclusive model. Using even more recent seasons might show a slightly better increase in prediction, especially considering the more recent focus on scoring over defense for All NBA."
   ]
  },
  {
   "cell_type": "markdown",
   "metadata": {},
   "source": [
    "# Discussion\n",
    "\n",
    "### Interpreting the result\n",
    "\n",
    "From our data results and from our model selection notebook linked above we see that most of our model performed relatively well when it came to selecting players for All-NBA selection. Models that produced probability outputs such as logistic regression and SVC ended up performing the best for the problem we were trying to address in this project. KNN did not end up performing as well as the other classifiers but this was to be expected since KNN classifers do not output or normally work well with probability outputs, since it can merely only give estimates based of neighbor distances in this situation. Our results also indicates that probability seems to be better suited for our selecting players for All-NBA selection instead of setting a cuttoff that could lead to randomness in the nature of voting. \n",
    "\n",
    "Our results also showed some interesting trends in the players it selected to make All-NBA. For example, our models commonly picked Jimmy Butler, Rudy Gobert, James Harden, and Dejuante Murrary to make All-NBA based off of their 2022 stats. This proved to be interesting because none of these players made a 2022 All-NBA team, which makes them false positives. Butler and Gobert are more known for their defensive ability instead of maximizing scoring output, Rudy Gobert did make the All NBA defensive team.It makes sense they were left off of our prediction since they don't fit the typical mold even though they had top tier seasons. James Harden missed roughly a quarter of the season, so his per game stats may be good enough but voters take games played into a higher consideration than our model does, we may improve by weighting games more heavily or setting a cutoff in cleaning. \n",
    "\n",
    "On the contrary players such as Chris Paul, Devin Booker, and Pascal Siakam were commonly left out models predicted All-NBA selection, when they did indeed make All-NBA for the 2022 season, which leads these to be our false negatives. Again, this was interesting to us because multiple models decided consistenly to leave these players out and not give them an All-NBA selection, even though we know they made the team.  Chris Paul and Devin Booker were on the Phoenix Suns, who were by far the best regular season team. Voters tend to give their votes to players on the better team. Our model thought their stats weren't quite enough and didn't account for team success. Adding in a type of win share as a statistic would help alleviate this and help model the voter tendencies.\n",
    "\n",
    "Reasons that influence bias could be based off of voting committee bias and league changes over time. Our models are trained on All-NBA selections dating back to 1989, which means we have a varitey of different preferences for how voting committees have voted over the years. Our models could have made better choices than the 2022 committee or it could have made worse choices, it's all up to interpretation in the baskteball communnity and it is very unlikely we will arrive a universally approved selection of players, but for the most part our models did an exceptional job. Training on more recent seasons might help to alleviate the differences in eras.\n",
    "        \n",
    "\n",
    "### Limitations\n",
    "\n",
    "Increasing the number of player statistics would certainly change the nature of our problem as there would be more features to consider in our predictions. How it affects our predictive model however, depends on the feature being added. In the addition of more player statistics, we might find that our model accuracies's decreases if the added features do not correlate well with the other features provided. For future work, it might be interesting to look at how the increase of various features might affect the accuracies of our models.\n",
    "\n",
    "Some features we could add are more advanced player stats such as usage rate, player efficiency rating, and win shares. Usage rate calculates what percentage of team plays a player was involved in while he was on the floor, provided that the play ends in one of the three true results: field-goal attempt, free-throw attempt or turnover. The player efficiency rating (PER) attempts to collect all of a player's contributions into one number. Using a detailed formula, the system rates every player's statistical performance. Win Shares is a player statistic which attempts to divide up credit for team success to the individuals on the team. It is calculated using player,team and league-wide statistics.\n",
    "\n",
    "\n",
    "#### Future Work\n",
    "\n",
    "For future works some things to consider examining would be dividing up our data into separate eras. The NBA recognizes three main eras: the first being the Classic Era (1980–1994), then the Transitional Era (1995–2013), and finally the Modern Era of the NBA (since 2013). Since our models are trained on All-NBA selections dating back to 1989 our models take into consideration the many different voting preferences over the years. Splitting up the data could narrow down these preferences and offer different results based on each era's voting prefences.\n",
    "\n",
    "We could also consider predicting the players that may make the 2nd and the 3rd all-NBA teams separately rather than just predicting the binary result of making the team or not. Regarding our current data, the positonal input of the players could also have been converted from an object type into a one hot encoding to take that feature into consideration, especially due to the positional restrictions of the voting. However there is no set category for a player so modeling based on position will be hard until the NBA changes their positional requirements.\n",
    "\n",
    "Another idea would be to break the season down into pre and post All Star break, which is a common reference point when teams can get some rest and regroup to increase performance before the back half of the season. Being able to predict elite performers before they break out could be lucrative for overall team predictions for success.\n",
    "\n",
    "### Ethics & Privacy\n",
    "\n",
    "Potential ethical implications of using a model to predict All NBA players include indirectly altering the game and playstyles, by indicating that a certain playstyle is more likely to be rewarded with All NBA votes over other playstyles. Consequently, all players may try to model their games after this select playstyle, which could result in the NBA becoming less entertaining and more rigid and monotonous. \n",
    "\n",
    "Anything sports related must consider gambling and its effects on people as well. Betting on All NBA teams exists but is a season long bet, and our model won't have the reach or power to have an impact on bets or opinions but it is important to acknowledge for any future work. The data itself is free use from basketball reference and they only charge for custom sets. More about their data use rules can be read on [their page](https://www.sports-reference.com/data_use.html).\n",
    "\n",
    "Moreover, in a broader scope of things, singling out what statistics are most indicative of making an All NBA player may result in decreased appreciation for those unselfish players who sacrifice their individual statistics in order to increase team performance. These players would never get their due recognition, as they would be overshadowed by the “logically correct” players determined by the model. Though to an extent, both of these phenomena are things that are already happening in the league today. \n",
    "\n",
    "### Conclusion\n",
    "\n",
    "Training on previous seasons using a probability based classifier gives very accurate results, considering they were able to include all 15 of the true results in the top 20 predicted probabilities. This model can help to shine a light on potential voter bias, which players are truly performing at an elite level or being overrated, and help players get more money due to contracts being tied to these awards. Training this model with advanced statistics, results from other models that predict All Stars and All Defense, and a moving season range to keep up with eras would be the next step to get even better results."
   ]
  },
  {
   "cell_type": "markdown",
   "metadata": {},
   "source": [
    "# Footnotes\n",
    "\n",
    "<a name=\"gollivernote\"></a>1.[^](#golliver): Golliver, B. (2021, May 11). Analysis | the all-NBA ballot is a bit of a mess thanks to position confusion. The Washington Post. Retrieved April 24, 2022, from https://www.washingtonpost.com/sports/2021/05/10/all-nba-teams-ballot-position-problems/ \n",
    "\n",
    "<a name=\"marquardtnote\"></a>2.[^](#marquardt):Marquardt, A. (2022, January 25). Legalized sports betting in the U.S. doubled in 2021. here's why that will continue after 'the greatest weekend in NFL playoff history.'. Fortune. Retrieved April 24, 2022, from https://fortune.com/2022/01/24/legalized-sports-betting-in-the-u-s-doubled-in-2021-heres-why-that-will-continue-after-the-greatest-weekend-in-nfl-playoff-history/#:~:text=Overall%2C%20the%20number%20of%20Americans,National%20Council%20on%20Problem%20Gambling. \n",
    "\n",
    "<a name=\"cohennote\"></a>3.[^](#cohen):Cohen, B., Diamond, J., &amp; Beaton, A. (2019, December 19). The decade when numbers broke sports. The Wall Street Journal. Retrieved April 24, 2022, from https://www.wsj.com/articles/2010s-decade-when-numbers-broke-sports-11576710216 \n",
    "\n",
    "<a name=\"yoonote\"></a>4.[^](#yoo):Yoo, D. (2022, February 16). Predicting the next NBA MVP using Machine Learning. Medium. Retrieved April 24, 2022, from https://towardsdatascience.com/predicting-the-next-nba-mvp-using-machine-learning-62615bfcff75 \n",
    "\n",
    "<a name=\"albertnote\"></a>5.[^](#albert):Albert, A.A.; de Mingo López, L.F.; Allbright, K.; Gomez Blas, N. A Hybrid Machine Learning Model for Predicting USA NBA All-Stars. Electronics 2022, 11, 97. https://doi.org/10.3390/electronics11010097\n",
    "\n",
    "<a name=\"darrennote\"></a>6.[^](#darren):Darren Hartwell. (2021, June 29). How Tatum wants all-NBA voting process to change after snub. RSN. Retrieved April 24, 2022, from https://www.nbcsports.com/boston/celtics/celtics-jayson-tatum-reacts-all-nba-snub-losing-out-33m#:~:text=The%20Boston%20Celtics%20star%20just,to%20his%20upcoming%20contract%20extension. \n"
   ]
  }
 ],
 "metadata": {
  "kernelspec": {
   "display_name": "Python 3 (ipykernel)",
   "language": "python",
   "name": "python3"
  },
  "language_info": {
   "codemirror_mode": {
    "name": "ipython",
    "version": 3
   },
   "file_extension": ".py",
   "mimetype": "text/x-python",
   "name": "python",
   "nbconvert_exporter": "python",
   "pygments_lexer": "ipython3",
   "version": "3.8.12"
  }
 },
 "nbformat": 4,
 "nbformat_minor": 2
}
