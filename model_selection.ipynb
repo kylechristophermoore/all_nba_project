{
 "cells": [
  {
   "cell_type": "markdown",
   "metadata": {},
   "source": [
    "# COGS 118A - Final Project"
   ]
  },
  {
   "cell_type": "markdown",
   "metadata": {},
   "source": [
    "# Model Selection"
   ]
  },
  {
   "cell_type": "code",
   "execution_count": 1,
   "metadata": {},
   "outputs": [],
   "source": [
    "# import all necessary packages and formulas\n",
    "\n",
    "import pandas as pd\n",
    "import numpy as np\n",
    "\n",
    "import matplotlib.pyplot as plt\n",
    "import seaborn as sns\n",
    "\n",
    "from sklearn.pipeline import Pipeline\n",
    "from sklearn.preprocessing import StandardScaler\n",
    "from sklearn.dummy import DummyClassifier\n",
    "from sklearn import svm\n",
    "\n",
    "from sklearn.neighbors import KNeighborsClassifier\n",
    "from sklearn.model_selection import GridSearchCV, RandomizedSearchCV\n",
    "from sklearn.model_selection import train_test_split\n",
    "from sklearn.linear_model import LogisticRegression\n",
    "from sklearn.ensemble import RandomForestClassifier\n",
    "from sklearn.ensemble import GradientBoostingClassifier\n",
    "\n",
    "from sklearn.metrics import *\n",
    "from sklearn.metrics import roc_curve\n",
    "from sklearn.metrics import auc\n",
    "\n",
    "import warnings\n",
    "warnings.simplefilter(action='ignore', category=FutureWarning)\n",
    "from pandas.core.common import SettingWithCopyWarning\n",
    "warnings.simplefilter(action=\"ignore\", category=SettingWithCopyWarning)"
   ]
  },
  {
   "cell_type": "code",
   "execution_count": 2,
   "metadata": {},
   "outputs": [],
   "source": [
    "# Run our notebook to generate the dataframe\n",
    "\n",
    "%run web_scraper_and_cleaning.ipynb"
   ]
  },
  {
   "cell_type": "markdown",
   "metadata": {},
   "source": [
    "[Link to Web Scraping and Data Cleaning Notebook](web_scraper_and_cleaning.ipynb)"
   ]
  },
  {
   "cell_type": "code",
   "execution_count": 3,
   "metadata": {},
   "outputs": [],
   "source": [
    "# Assign dataframe to the merged dataframe created in the web scraping notebook\n",
    "\n",
    "df = merged_df"
   ]
  },
  {
   "cell_type": "code",
   "execution_count": 4,
   "metadata": {},
   "outputs": [],
   "source": [
    "# create column of class labels, 1 for All NBA, 0 for not\n",
    "\n",
    "df['all_nba'] = np.where(df['all_nba_team'] >= 1, 1, 0)"
   ]
  },
  {
   "cell_type": "code",
   "execution_count": 5,
   "metadata": {},
   "outputs": [],
   "source": [
    "# add a points per game column\n",
    "df['PTS/G'] = (df.PTS / df.G).round(decimals=1)"
   ]
  },
  {
   "cell_type": "code",
   "execution_count": 6,
   "metadata": {},
   "outputs": [],
   "source": [
    "# gather numeric columns\n",
    "\n",
    "numeric_columns = ['Age', 'G', 'GS', 'MP', 'FG', '3P', 'eFG%', 'FT', 'TRB', 'AST', \n",
    "                   'STL', 'BLK', 'TOV', 'PF', 'PTS', 'PTS/G', 'all_nba']"
   ]
  },
  {
   "cell_type": "code",
   "execution_count": 7,
   "metadata": {
    "scrolled": true
   },
   "outputs": [],
   "source": [
    "df = df.drop(['FGA', 'FG%', '3PA', '3P%', '2P', '2PA', '2P%', 'FT%', 'FTA', 'ORB', 'DRB'], axis=1)"
   ]
  },
  {
   "cell_type": "markdown",
   "metadata": {},
   "source": [
    "## Baseline Classification"
   ]
  },
  {
   "cell_type": "code",
   "execution_count": 8,
   "metadata": {},
   "outputs": [],
   "source": [
    "# Split dataset\n",
    "\n",
    "X_train, X_test, y_train, y_test = train_test_split(df[numeric_columns].drop(columns='all_nba')[df.Year != 2022], \n",
    "                                                    df.all_nba[df.Year != 2022], \n",
    "    test_size=.33, random_state=42, stratify=df.all_nba[df.Year != 2022])"
   ]
  },
  {
   "cell_type": "code",
   "execution_count": 9,
   "metadata": {},
   "outputs": [
    {
     "name": "stdout",
     "output_type": "stream",
     "text": [
      "The shape of the X_train is: (7495, 16)\n",
      "The shape of the X_test is: (3693, 16)\n",
      "The shape of the y_train is: (7495,)\n",
      "The shape of the y_test is: (3693,)\n"
     ]
    }
   ],
   "source": [
    "print('The shape of the X_train is:', X_train.shape)\n",
    "print('The shape of the X_test is:', X_test.shape)\n",
    "print('The shape of the y_train is:', y_train.shape)\n",
    "print('The shape of the y_test is:', y_test.shape)"
   ]
  },
  {
   "cell_type": "code",
   "execution_count": 10,
   "metadata": {},
   "outputs": [],
   "source": [
    "dummy_clf = DummyClassifier(strategy='most_frequent').fit(df[numeric_columns].drop(columns='all_nba')[df.Year != 2022],\n",
    "                                                          df.all_nba[df.Year != 2022])\n",
    "stratified_dummy_clf = DummyClassifier(strategy='stratified').fit(df[numeric_columns].drop(columns='all_nba')[df.Year != 2022],\n",
    "                                                          df.all_nba[df.Year != 2022])"
   ]
  },
  {
   "cell_type": "code",
   "execution_count": 11,
   "metadata": {},
   "outputs": [
    {
     "data": {
      "text/plain": [
       "DummyClassifier(strategy='stratified')"
      ]
     },
     "execution_count": 11,
     "metadata": {},
     "output_type": "execute_result"
    }
   ],
   "source": [
    "dummy_clf.fit(X_train, y_train)\n",
    "stratified_dummy_clf.fit(X_train, y_train)"
   ]
  },
  {
   "cell_type": "code",
   "execution_count": 12,
   "metadata": {},
   "outputs": [
    {
     "name": "stdout",
     "output_type": "stream",
     "text": [
      "Most frequent class guessing in baseline gives: 0.9558624424587057\n",
      "Stratified class guessing in baseline gives: 0.9160574059030598\n"
     ]
    }
   ],
   "source": [
    "print('Most frequent class guessing in baseline gives: ' + str(dummy_clf.score(X_test, y_test)))\n",
    "print('Stratified class guessing in baseline gives: ' + str(stratified_dummy_clf.score(X_test, y_test)))"
   ]
  },
  {
   "cell_type": "markdown",
   "metadata": {},
   "source": [
    "## Model Selection - Logistic Regression"
   ]
  },
  {
   "cell_type": "code",
   "execution_count": 13,
   "metadata": {},
   "outputs": [],
   "source": [
    "# Estimator and pipeline for logistic regression\n",
    "\n",
    "log_clf = LogisticRegression(random_state=42)\n",
    "\n",
    "pipe = Pipeline([('scaler', StandardScaler()), ('classifier', log_clf)])"
   ]
  },
  {
   "cell_type": "code",
   "execution_count": 14,
   "metadata": {},
   "outputs": [],
   "source": [
    "# Parameter grid for logistic regression\n",
    "\n",
    "log_param = {}\n",
    "log_param['classifier__C'] = np.logspace(-3,3,7)\n",
    "log_param['classifier__penalty'] = ['none','l1', 'l2']\n",
    "log_param['classifier__solver'] = ['newton-cg', 'lbfgs', 'liblinear']\n",
    "log_param['classifier__class_weight'] = [None, 'balanced', {0:1,1:5}, {0:1,1:10}, {0:1,1:25}]\n",
    "log_param['classifier'] = [log_clf]"
   ]
  },
  {
   "cell_type": "code",
   "execution_count": 15,
   "metadata": {},
   "outputs": [
    {
     "name": "stdout",
     "output_type": "stream",
     "text": [
      "Fitting 3 folds for each of 315 candidates, totalling 945 fits\n"
     ]
    },
    {
     "name": "stderr",
     "output_type": "stream",
     "text": [
      "C:\\Users\\kylec\\Documents\\Programming\\lib\\site-packages\\sklearn\\model_selection\\_validation.py:372: FitFailedWarning: \n",
      "315 fits failed out of a total of 945.\n",
      "The score on these train-test partitions for these parameters will be set to nan.\n",
      "If these failures are not expected, you can try to debug them by setting error_score='raise'.\n",
      "\n",
      "Below are more details about the failures:\n",
      "--------------------------------------------------------------------------------\n",
      "105 fits failed with the following error:\n",
      "Traceback (most recent call last):\n",
      "  File \"C:\\Users\\kylec\\Documents\\Programming\\lib\\site-packages\\sklearn\\model_selection\\_validation.py\", line 680, in _fit_and_score\n",
      "    estimator.fit(X_train, y_train, **fit_params)\n",
      "  File \"C:\\Users\\kylec\\Documents\\Programming\\lib\\site-packages\\sklearn\\pipeline.py\", line 394, in fit\n",
      "    self._final_estimator.fit(Xt, y, **fit_params_last_step)\n",
      "  File \"C:\\Users\\kylec\\Documents\\Programming\\lib\\site-packages\\sklearn\\linear_model\\_logistic.py\", line 1461, in fit\n",
      "    solver = _check_solver(self.solver, self.penalty, self.dual)\n",
      "  File \"C:\\Users\\kylec\\Documents\\Programming\\lib\\site-packages\\sklearn\\linear_model\\_logistic.py\", line 464, in _check_solver\n",
      "    raise ValueError(\"penalty='none' is not supported for the liblinear solver\")\n",
      "ValueError: penalty='none' is not supported for the liblinear solver\n",
      "\n",
      "--------------------------------------------------------------------------------\n",
      "105 fits failed with the following error:\n",
      "Traceback (most recent call last):\n",
      "  File \"C:\\Users\\kylec\\Documents\\Programming\\lib\\site-packages\\sklearn\\model_selection\\_validation.py\", line 680, in _fit_and_score\n",
      "    estimator.fit(X_train, y_train, **fit_params)\n",
      "  File \"C:\\Users\\kylec\\Documents\\Programming\\lib\\site-packages\\sklearn\\pipeline.py\", line 394, in fit\n",
      "    self._final_estimator.fit(Xt, y, **fit_params_last_step)\n",
      "  File \"C:\\Users\\kylec\\Documents\\Programming\\lib\\site-packages\\sklearn\\linear_model\\_logistic.py\", line 1461, in fit\n",
      "    solver = _check_solver(self.solver, self.penalty, self.dual)\n",
      "  File \"C:\\Users\\kylec\\Documents\\Programming\\lib\\site-packages\\sklearn\\linear_model\\_logistic.py\", line 447, in _check_solver\n",
      "    raise ValueError(\n",
      "ValueError: Solver newton-cg supports only 'l2' or 'none' penalties, got l1 penalty.\n",
      "\n",
      "--------------------------------------------------------------------------------\n",
      "105 fits failed with the following error:\n",
      "Traceback (most recent call last):\n",
      "  File \"C:\\Users\\kylec\\Documents\\Programming\\lib\\site-packages\\sklearn\\model_selection\\_validation.py\", line 680, in _fit_and_score\n",
      "    estimator.fit(X_train, y_train, **fit_params)\n",
      "  File \"C:\\Users\\kylec\\Documents\\Programming\\lib\\site-packages\\sklearn\\pipeline.py\", line 394, in fit\n",
      "    self._final_estimator.fit(Xt, y, **fit_params_last_step)\n",
      "  File \"C:\\Users\\kylec\\Documents\\Programming\\lib\\site-packages\\sklearn\\linear_model\\_logistic.py\", line 1461, in fit\n",
      "    solver = _check_solver(self.solver, self.penalty, self.dual)\n",
      "  File \"C:\\Users\\kylec\\Documents\\Programming\\lib\\site-packages\\sklearn\\linear_model\\_logistic.py\", line 447, in _check_solver\n",
      "    raise ValueError(\n",
      "ValueError: Solver lbfgs supports only 'l2' or 'none' penalties, got l1 penalty.\n",
      "\n",
      "  warnings.warn(some_fits_failed_message, FitFailedWarning)\n",
      "C:\\Users\\kylec\\Documents\\Programming\\lib\\site-packages\\sklearn\\model_selection\\_search.py:969: UserWarning: One or more of the test scores are non-finite: [0.97625071 0.97625071        nan        nan        nan 0.95570382\n",
      " 0.96184083 0.96184083 0.97238164 0.94316339 0.94329683        nan\n",
      "        nan        nan 0.67004827 0.90967436 0.90967436 0.77825366\n",
      " 0.96691198 0.96691198        nan        nan        nan 0.95783843\n",
      " 0.96317556 0.96317556 0.91767948 0.95570489 0.95570489        nan\n",
      "        nan        nan 0.88445712 0.94689843 0.94689843 0.87218223\n",
      " 0.94062824 0.94062824        nan        nan        nan 0.76878042\n",
      " 0.91127548 0.91127548 0.81627885 0.97625071 0.97625071        nan\n",
      "        nan        nan 0.96531006 0.97384921 0.97384921 0.9733154\n",
      " 0.94316339 0.94329683        nan        nan        nan 0.9055382\n",
      " 0.93355661 0.93355661 0.90260321 0.96691198 0.96691198        nan\n",
      "        nan        nan 0.96170798 0.96624478 0.96624478 0.96117486\n",
      " 0.95570489 0.95570489        nan        nan        nan 0.94382952\n",
      " 0.95356963 0.95356963 0.94076136 0.94062824 0.94062824        nan\n",
      "        nan        nan 0.91727932 0.93208888 0.93208888 0.91074177\n",
      " 0.97625071 0.97625071        nan        nan        nan 0.97464985\n",
      " 0.97545028 0.97545028 0.9751834  0.94316339 0.94329683        nan\n",
      "        nan        nan 0.93689213 0.94089485 0.94089485 0.93342322\n",
      " 0.96691198 0.96691198        nan        nan        nan 0.96704516\n",
      " 0.96691182 0.96691182 0.9653107  0.95570489 0.95570489        nan\n",
      "        nan        nan 0.95703897 0.95783945 0.95783945 0.95383689\n",
      " 0.94062824 0.94062824        nan        nan        nan 0.93795965\n",
      " 0.93916045 0.93916045 0.93342322 0.97625071 0.97625071        nan\n",
      "        nan        nan 0.97638431 0.97638426 0.97638426 0.97611759\n",
      " 0.94316339 0.94329683        nan        nan        nan 0.94343005\n",
      " 0.94356339 0.94356339 0.94249592 0.96691198 0.96691198        nan\n",
      "        nan        nan 0.96691204 0.96691204 0.96691204 0.96704532\n",
      " 0.95570489 0.95570489        nan        nan        nan 0.9561051\n",
      " 0.95650542 0.95650542 0.95637193 0.94062824 0.94062824        nan\n",
      "        nan        nan 0.94062813 0.94062813 0.94076157 0.93996099\n",
      " 0.97625071 0.97625071        nan        nan        nan 0.97625071\n",
      " 0.97638415 0.97638415 0.97665103 0.94316339 0.94329683        nan\n",
      "        nan        nan 0.94329683 0.94343021 0.94343021 0.94343021\n",
      " 0.96691198 0.96691198        nan        nan        nan 0.96691204\n",
      " 0.9667786  0.9667786  0.96691198 0.95570489 0.95570489        nan\n",
      "        nan        nan 0.95570483 0.95583827 0.95583827 0.95583833\n",
      " 0.94062824 0.94062824        nan        nan        nan 0.94062824\n",
      " 0.94062824 0.94062824 0.94036136 0.97625071 0.97625071        nan\n",
      "        nan        nan 0.97625071 0.97625071 0.97625071 0.97625071\n",
      " 0.94316339 0.94329683        nan        nan        nan 0.94316339\n",
      " 0.94329683 0.94329683 0.94316339 0.96691198 0.96691198        nan\n",
      "        nan        nan 0.9667786  0.96691198 0.96691198 0.96691198\n",
      " 0.95570489 0.95570489        nan        nan        nan 0.95583827\n",
      " 0.95583827 0.95583827 0.95570489 0.94062824 0.94062824        nan\n",
      "        nan        nan 0.94062824 0.94062824 0.94062824 0.94062824\n",
      " 0.97625071 0.97625071        nan        nan        nan 0.97625071\n",
      " 0.97625071 0.97625071 0.97625071 0.94316339 0.94329683        nan\n",
      "        nan        nan 0.94316339 0.94329683 0.94329683 0.94329683\n",
      " 0.96691198 0.96691198        nan        nan        nan 0.96691198\n",
      " 0.96691198 0.96691198 0.96691198 0.95570489 0.95570489        nan\n",
      "        nan        nan 0.95583827 0.95583827 0.95583827 0.95583827\n",
      " 0.94062824 0.94062824        nan        nan        nan 0.94062824\n",
      " 0.94062824 0.94062824 0.94062824]\n",
      "  warnings.warn(\n"
     ]
    }
   ],
   "source": [
    "# Grid search\n",
    "\n",
    "log_grid = GridSearchCV(pipe, log_param, cv=3, n_jobs=-1, scoring='f1_micro', verbose=3).fit(X_train, y_train)"
   ]
  },
  {
   "cell_type": "markdown",
   "metadata": {},
   "source": [
    "Here we have certain fits failing due to some of our solver parameters not being able to use certain penalties, this was expected."
   ]
  },
  {
   "cell_type": "code",
   "execution_count": 16,
   "metadata": {},
   "outputs": [
    {
     "data": {
      "text/plain": [
       "{'classifier': LogisticRegression(C=10.0, random_state=42, solver='liblinear'),\n",
       " 'classifier__C': 10.0,\n",
       " 'classifier__class_weight': None,\n",
       " 'classifier__penalty': 'l2',\n",
       " 'classifier__solver': 'liblinear'}"
      ]
     },
     "execution_count": 16,
     "metadata": {},
     "output_type": "execute_result"
    }
   ],
   "source": [
    "log_grid.best_params_"
   ]
  },
  {
   "cell_type": "code",
   "execution_count": 17,
   "metadata": {},
   "outputs": [
    {
     "data": {
      "text/plain": [
       "0.9766510287061182"
      ]
     },
     "execution_count": 17,
     "metadata": {},
     "output_type": "execute_result"
    }
   ],
   "source": [
    "log_grid.best_score_"
   ]
  },
  {
   "cell_type": "code",
   "execution_count": 18,
   "metadata": {},
   "outputs": [],
   "source": [
    "df_2022 = df[df['Year']==2022]"
   ]
  },
  {
   "cell_type": "code",
   "execution_count": 19,
   "metadata": {},
   "outputs": [
    {
     "data": {
      "text/plain": [
       "0.9824120603015075"
      ]
     },
     "execution_count": 19,
     "metadata": {},
     "output_type": "execute_result"
    }
   ],
   "source": [
    "log_grid.score(df_2022[numeric_columns].drop(columns='all_nba'), df_2022['all_nba'])"
   ]
  },
  {
   "cell_type": "code",
   "execution_count": 20,
   "metadata": {
    "scrolled": false
   },
   "outputs": [
    {
     "data": {
      "text/html": [
       "<div>\n",
       "<style scoped>\n",
       "    .dataframe tbody tr th:only-of-type {\n",
       "        vertical-align: middle;\n",
       "    }\n",
       "\n",
       "    .dataframe tbody tr th {\n",
       "        vertical-align: top;\n",
       "    }\n",
       "\n",
       "    .dataframe thead th {\n",
       "        text-align: right;\n",
       "    }\n",
       "</style>\n",
       "<table border=\"1\" class=\"dataframe\">\n",
       "  <thead>\n",
       "    <tr style=\"text-align: right;\">\n",
       "      <th></th>\n",
       "      <th>all_nba</th>\n",
       "      <th>all_nba_pred</th>\n",
       "    </tr>\n",
       "    <tr>\n",
       "      <th>Player</th>\n",
       "      <th></th>\n",
       "      <th></th>\n",
       "    </tr>\n",
       "  </thead>\n",
       "  <tbody>\n",
       "    <tr>\n",
       "      <th>Giannis Antetokounmpo</th>\n",
       "      <td>1</td>\n",
       "      <td>1</td>\n",
       "    </tr>\n",
       "    <tr>\n",
       "      <th>Jimmy Butler</th>\n",
       "      <td>0</td>\n",
       "      <td>1</td>\n",
       "    </tr>\n",
       "    <tr>\n",
       "      <th>Stephen Curry</th>\n",
       "      <td>1</td>\n",
       "      <td>1</td>\n",
       "    </tr>\n",
       "    <tr>\n",
       "      <th>DeMar DeRozan</th>\n",
       "      <td>1</td>\n",
       "      <td>1</td>\n",
       "    </tr>\n",
       "    <tr>\n",
       "      <th>Luka Dončić</th>\n",
       "      <td>1</td>\n",
       "      <td>1</td>\n",
       "    </tr>\n",
       "    <tr>\n",
       "      <th>Kevin Durant</th>\n",
       "      <td>1</td>\n",
       "      <td>1</td>\n",
       "    </tr>\n",
       "    <tr>\n",
       "      <th>Joel Embiid</th>\n",
       "      <td>1</td>\n",
       "      <td>1</td>\n",
       "    </tr>\n",
       "    <tr>\n",
       "      <th>Rudy Gobert</th>\n",
       "      <td>0</td>\n",
       "      <td>1</td>\n",
       "    </tr>\n",
       "    <tr>\n",
       "      <th>James Harden</th>\n",
       "      <td>0</td>\n",
       "      <td>1</td>\n",
       "    </tr>\n",
       "    <tr>\n",
       "      <th>LeBron James</th>\n",
       "      <td>1</td>\n",
       "      <td>1</td>\n",
       "    </tr>\n",
       "    <tr>\n",
       "      <th>Nikola Jokić</th>\n",
       "      <td>1</td>\n",
       "      <td>1</td>\n",
       "    </tr>\n",
       "    <tr>\n",
       "      <th>Ja Morant</th>\n",
       "      <td>1</td>\n",
       "      <td>1</td>\n",
       "    </tr>\n",
       "    <tr>\n",
       "      <th>Dejounte Murray</th>\n",
       "      <td>0</td>\n",
       "      <td>1</td>\n",
       "    </tr>\n",
       "    <tr>\n",
       "      <th>Jayson Tatum</th>\n",
       "      <td>1</td>\n",
       "      <td>1</td>\n",
       "    </tr>\n",
       "    <tr>\n",
       "      <th>Karl-Anthony Towns</th>\n",
       "      <td>1</td>\n",
       "      <td>1</td>\n",
       "    </tr>\n",
       "    <tr>\n",
       "      <th>Trae Young</th>\n",
       "      <td>1</td>\n",
       "      <td>1</td>\n",
       "    </tr>\n",
       "  </tbody>\n",
       "</table>\n",
       "</div>"
      ],
      "text/plain": [
       "                       all_nba  all_nba_pred\n",
       "Player                                      \n",
       "Giannis Antetokounmpo        1             1\n",
       "Jimmy Butler                 0             1\n",
       "Stephen Curry                1             1\n",
       "DeMar DeRozan                1             1\n",
       "Luka Dončić                  1             1\n",
       "Kevin Durant                 1             1\n",
       "Joel Embiid                  1             1\n",
       "Rudy Gobert                  0             1\n",
       "James Harden                 0             1\n",
       "LeBron James                 1             1\n",
       "Nikola Jokić                 1             1\n",
       "Ja Morant                    1             1\n",
       "Dejounte Murray              0             1\n",
       "Jayson Tatum                 1             1\n",
       "Karl-Anthony Towns           1             1\n",
       "Trae Young                   1             1"
      ]
     },
     "execution_count": 20,
     "metadata": {},
     "output_type": "execute_result"
    }
   ],
   "source": [
    "df_2022['all_nba_pred'] = log_grid.predict(df_2022[numeric_columns].drop(columns='all_nba'))\n",
    "\n",
    "df_2022[df_2022['all_nba_pred'] == 1][['all_nba', 'all_nba_pred']].head(30)"
   ]
  },
  {
   "cell_type": "code",
   "execution_count": 21,
   "metadata": {
    "scrolled": false
   },
   "outputs": [
    {
     "data": {
      "text/html": [
       "<div>\n",
       "<style scoped>\n",
       "    .dataframe tbody tr th:only-of-type {\n",
       "        vertical-align: middle;\n",
       "    }\n",
       "\n",
       "    .dataframe tbody tr th {\n",
       "        vertical-align: top;\n",
       "    }\n",
       "\n",
       "    .dataframe thead th {\n",
       "        text-align: right;\n",
       "    }\n",
       "</style>\n",
       "<table border=\"1\" class=\"dataframe\">\n",
       "  <thead>\n",
       "    <tr style=\"text-align: right;\">\n",
       "      <th></th>\n",
       "      <th>all_nba</th>\n",
       "      <th>all_nba_pred</th>\n",
       "      <th>all_nba_prob</th>\n",
       "    </tr>\n",
       "    <tr>\n",
       "      <th>Player</th>\n",
       "      <th></th>\n",
       "      <th></th>\n",
       "      <th></th>\n",
       "    </tr>\n",
       "  </thead>\n",
       "  <tbody>\n",
       "    <tr>\n",
       "      <th>Nikola Jokić</th>\n",
       "      <td>1</td>\n",
       "      <td>1</td>\n",
       "      <td>0.999007</td>\n",
       "    </tr>\n",
       "    <tr>\n",
       "      <th>Giannis Antetokounmpo</th>\n",
       "      <td>1</td>\n",
       "      <td>1</td>\n",
       "      <td>0.997597</td>\n",
       "    </tr>\n",
       "    <tr>\n",
       "      <th>Joel Embiid</th>\n",
       "      <td>1</td>\n",
       "      <td>1</td>\n",
       "      <td>0.996971</td>\n",
       "    </tr>\n",
       "    <tr>\n",
       "      <th>LeBron James</th>\n",
       "      <td>1</td>\n",
       "      <td>1</td>\n",
       "      <td>0.985786</td>\n",
       "    </tr>\n",
       "    <tr>\n",
       "      <th>Kevin Durant</th>\n",
       "      <td>1</td>\n",
       "      <td>1</td>\n",
       "      <td>0.974971</td>\n",
       "    </tr>\n",
       "    <tr>\n",
       "      <th>Trae Young</th>\n",
       "      <td>1</td>\n",
       "      <td>1</td>\n",
       "      <td>0.953575</td>\n",
       "    </tr>\n",
       "    <tr>\n",
       "      <th>Luka Dončić</th>\n",
       "      <td>1</td>\n",
       "      <td>1</td>\n",
       "      <td>0.937479</td>\n",
       "    </tr>\n",
       "    <tr>\n",
       "      <th>DeMar DeRozan</th>\n",
       "      <td>1</td>\n",
       "      <td>1</td>\n",
       "      <td>0.919536</td>\n",
       "    </tr>\n",
       "    <tr>\n",
       "      <th>Rudy Gobert</th>\n",
       "      <td>0</td>\n",
       "      <td>1</td>\n",
       "      <td>0.906054</td>\n",
       "    </tr>\n",
       "    <tr>\n",
       "      <th>James Harden</th>\n",
       "      <td>0</td>\n",
       "      <td>1</td>\n",
       "      <td>0.885370</td>\n",
       "    </tr>\n",
       "    <tr>\n",
       "      <th>Karl-Anthony Towns</th>\n",
       "      <td>1</td>\n",
       "      <td>1</td>\n",
       "      <td>0.795461</td>\n",
       "    </tr>\n",
       "    <tr>\n",
       "      <th>Dejounte Murray</th>\n",
       "      <td>0</td>\n",
       "      <td>1</td>\n",
       "      <td>0.760759</td>\n",
       "    </tr>\n",
       "    <tr>\n",
       "      <th>Jayson Tatum</th>\n",
       "      <td>1</td>\n",
       "      <td>1</td>\n",
       "      <td>0.758184</td>\n",
       "    </tr>\n",
       "    <tr>\n",
       "      <th>Stephen Curry</th>\n",
       "      <td>1</td>\n",
       "      <td>1</td>\n",
       "      <td>0.712726</td>\n",
       "    </tr>\n",
       "    <tr>\n",
       "      <th>Ja Morant</th>\n",
       "      <td>1</td>\n",
       "      <td>1</td>\n",
       "      <td>0.667208</td>\n",
       "    </tr>\n",
       "    <tr>\n",
       "      <th>Jimmy Butler</th>\n",
       "      <td>0</td>\n",
       "      <td>1</td>\n",
       "      <td>0.579879</td>\n",
       "    </tr>\n",
       "    <tr>\n",
       "      <th>Chris Paul</th>\n",
       "      <td>1</td>\n",
       "      <td>0</td>\n",
       "      <td>0.490140</td>\n",
       "    </tr>\n",
       "    <tr>\n",
       "      <th>Devin Booker</th>\n",
       "      <td>1</td>\n",
       "      <td>0</td>\n",
       "      <td>0.457518</td>\n",
       "    </tr>\n",
       "    <tr>\n",
       "      <th>Pascal Siakam</th>\n",
       "      <td>1</td>\n",
       "      <td>0</td>\n",
       "      <td>0.451093</td>\n",
       "    </tr>\n",
       "    <tr>\n",
       "      <th>Domantas Sabonis</th>\n",
       "      <td>0</td>\n",
       "      <td>0</td>\n",
       "      <td>0.390579</td>\n",
       "    </tr>\n",
       "  </tbody>\n",
       "</table>\n",
       "</div>"
      ],
      "text/plain": [
       "                       all_nba  all_nba_pred  all_nba_prob\n",
       "Player                                                    \n",
       "Nikola Jokić                 1             1      0.999007\n",
       "Giannis Antetokounmpo        1             1      0.997597\n",
       "Joel Embiid                  1             1      0.996971\n",
       "LeBron James                 1             1      0.985786\n",
       "Kevin Durant                 1             1      0.974971\n",
       "Trae Young                   1             1      0.953575\n",
       "Luka Dončić                  1             1      0.937479\n",
       "DeMar DeRozan                1             1      0.919536\n",
       "Rudy Gobert                  0             1      0.906054\n",
       "James Harden                 0             1      0.885370\n",
       "Karl-Anthony Towns           1             1      0.795461\n",
       "Dejounte Murray              0             1      0.760759\n",
       "Jayson Tatum                 1             1      0.758184\n",
       "Stephen Curry                1             1      0.712726\n",
       "Ja Morant                    1             1      0.667208\n",
       "Jimmy Butler                 0             1      0.579879\n",
       "Chris Paul                   1             0      0.490140\n",
       "Devin Booker                 1             0      0.457518\n",
       "Pascal Siakam                1             0      0.451093\n",
       "Domantas Sabonis             0             0      0.390579"
      ]
     },
     "execution_count": 21,
     "metadata": {},
     "output_type": "execute_result"
    }
   ],
   "source": [
    "df_2022['all_nba_prob'] = log_grid.predict_proba(df_2022[numeric_columns].drop(columns='all_nba'))[:,1]\n",
    "\n",
    "df_2022[['all_nba', 'all_nba_pred', 'all_nba_prob']].sort_values('all_nba_prob', ascending = False).head(20)"
   ]
  },
  {
   "cell_type": "markdown",
   "metadata": {},
   "source": [
    "## Model Selection - KNN"
   ]
  },
  {
   "cell_type": "code",
   "execution_count": 27,
   "metadata": {},
   "outputs": [
    {
     "name": "stdout",
     "output_type": "stream",
     "text": [
      "Fitting 10 folds for each of 15 candidates, totalling 150 fits\n"
     ]
    }
   ],
   "source": [
    "knn = KNeighborsClassifier()\n",
    "k_range = list(range(1, 31,2))\n",
    "\n",
    "param_grid = dict(n_neighbors=k_range)\n",
    "\n",
    "grid = GridSearchCV(knn, param_grid, cv=10, scoring='roc_auc', return_train_score=False,verbose=1)\n",
    "grid_search = grid.fit(X_train, y_train)"
   ]
  },
  {
   "cell_type": "code",
   "execution_count": 28,
   "metadata": {},
   "outputs": [
    {
     "name": "stdout",
     "output_type": "stream",
     "text": [
      "{'n_neighbors': 29}\n"
     ]
    }
   ],
   "source": [
    "print(grid_search.best_params_)"
   ]
  },
  {
   "cell_type": "code",
   "execution_count": 29,
   "metadata": {},
   "outputs": [
    {
     "name": "stdout",
     "output_type": "stream",
     "text": [
      "0.9772180110143243\n"
     ]
    }
   ],
   "source": [
    "print(grid_search.best_score_)"
   ]
  },
  {
   "cell_type": "code",
   "execution_count": 30,
   "metadata": {},
   "outputs": [
    {
     "data": {
      "image/png": "[encoded data removed]",
      "text/plain": [
       "<Figure size 432x288 with 1 Axes>"
      ]
     },
     "metadata": {
      "needs_background": "light"
     },
     "output_type": "display_data"
    }
   ],
   "source": [
    "knn = KNeighborsClassifier(n_neighbors = 29)\n",
    "knn.fit(X_train,y_train)\n",
    "\n",
    "y_scores = knn.predict_proba(X_test)\n",
    "fpr, tpr, threshold = roc_curve(y_test, y_scores[:, 1])\n",
    "roc_auc = auc(fpr, tpr)\n",
    "\n",
    "\n",
    "plt.title('Receiver Operating Characteristic')\n",
    "plt.plot(fpr, tpr, 'b', label = 'AUC = %0.2f' % roc_auc)\n",
    "plt.legend(loc = 'lower right')\n",
    "plt.plot([0, 1], [0, 1],'r--')\n",
    "plt.xlim([0, 1])\n",
    "plt.ylim([0, 1])\n",
    "plt.ylabel('True Positive Rate')\n",
    "plt.xlabel('False Positive Rate')\n",
    "plt.title('ROC Curve of kNN')\n",
    "plt.show()"
   ]
  },
  {
   "cell_type": "code",
   "execution_count": 31,
   "metadata": {},
   "outputs": [
    {
     "name": "stdout",
     "output_type": "stream",
     "text": [
      "Precision: 0.44171779141104295\n",
      "Recall: 0.8\n",
      "Roc_Auc_score: 0.8873716347488204\n"
     ]
    }
   ],
   "source": [
    "print('Precision:', precision_score(grid_search.predict(X_test), y_test))\n",
    "print('Recall:', recall_score(grid_search.predict(X_test), y_test))\n",
    "print('Roc_Auc_score:', roc_auc_score(grid_search.predict(X_test), y_test))"
   ]
  },
  {
   "cell_type": "code",
   "execution_count": 32,
   "metadata": {},
   "outputs": [],
   "source": [
    "df_2022 = df[df['Year']==2022]"
   ]
  },
  {
   "cell_type": "code",
   "execution_count": 33,
   "metadata": {},
   "outputs": [
    {
     "data": {
      "text/plain": [
       "0.990426457789382"
      ]
     },
     "execution_count": 33,
     "metadata": {},
     "output_type": "execute_result"
    }
   ],
   "source": [
    "grid_search.score(df_2022[numeric_columns].drop(columns='all_nba'), df_2022['all_nba'])"
   ]
  },
  {
   "cell_type": "code",
   "execution_count": 34,
   "metadata": {
    "scrolled": false
   },
   "outputs": [
    {
     "data": {
      "text/html": [
       "<div>\n",
       "<style scoped>\n",
       "    .dataframe tbody tr th:only-of-type {\n",
       "        vertical-align: middle;\n",
       "    }\n",
       "\n",
       "    .dataframe tbody tr th {\n",
       "        vertical-align: top;\n",
       "    }\n",
       "\n",
       "    .dataframe thead th {\n",
       "        text-align: right;\n",
       "    }\n",
       "</style>\n",
       "<table border=\"1\" class=\"dataframe\">\n",
       "  <thead>\n",
       "    <tr style=\"text-align: right;\">\n",
       "      <th></th>\n",
       "      <th>all_nba</th>\n",
       "      <th>all_nba_pred</th>\n",
       "    </tr>\n",
       "    <tr>\n",
       "      <th>Player</th>\n",
       "      <th></th>\n",
       "      <th></th>\n",
       "    </tr>\n",
       "  </thead>\n",
       "  <tbody>\n",
       "    <tr>\n",
       "      <th>Giannis Antetokounmpo</th>\n",
       "      <td>1</td>\n",
       "      <td>1</td>\n",
       "    </tr>\n",
       "    <tr>\n",
       "      <th>DeMar DeRozan</th>\n",
       "      <td>1</td>\n",
       "      <td>1</td>\n",
       "    </tr>\n",
       "    <tr>\n",
       "      <th>Luka Dončić</th>\n",
       "      <td>1</td>\n",
       "      <td>1</td>\n",
       "    </tr>\n",
       "    <tr>\n",
       "      <th>Joel Embiid</th>\n",
       "      <td>1</td>\n",
       "      <td>1</td>\n",
       "    </tr>\n",
       "    <tr>\n",
       "      <th>LeBron James</th>\n",
       "      <td>1</td>\n",
       "      <td>1</td>\n",
       "    </tr>\n",
       "    <tr>\n",
       "      <th>Nikola Jokić</th>\n",
       "      <td>1</td>\n",
       "      <td>1</td>\n",
       "    </tr>\n",
       "    <tr>\n",
       "      <th>Jayson Tatum</th>\n",
       "      <td>1</td>\n",
       "      <td>1</td>\n",
       "    </tr>\n",
       "    <tr>\n",
       "      <th>Karl-Anthony Towns</th>\n",
       "      <td>1</td>\n",
       "      <td>1</td>\n",
       "    </tr>\n",
       "    <tr>\n",
       "      <th>Trae Young</th>\n",
       "      <td>1</td>\n",
       "      <td>1</td>\n",
       "    </tr>\n",
       "  </tbody>\n",
       "</table>\n",
       "</div>"
      ],
      "text/plain": [
       "                       all_nba  all_nba_pred\n",
       "Player                                      \n",
       "Giannis Antetokounmpo        1             1\n",
       "DeMar DeRozan                1             1\n",
       "Luka Dončić                  1             1\n",
       "Joel Embiid                  1             1\n",
       "LeBron James                 1             1\n",
       "Nikola Jokić                 1             1\n",
       "Jayson Tatum                 1             1\n",
       "Karl-Anthony Towns           1             1\n",
       "Trae Young                   1             1"
      ]
     },
     "execution_count": 34,
     "metadata": {},
     "output_type": "execute_result"
    }
   ],
   "source": [
    "df_2022['all_nba_pred'] = grid_search.predict(df_2022[numeric_columns].drop(columns='all_nba'))\n",
    "\n",
    "df_2022[df_2022['all_nba_pred'] == 1][['all_nba', 'all_nba_pred']].head(30)"
   ]
  },
  {
   "cell_type": "code",
   "execution_count": 35,
   "metadata": {
    "scrolled": false
   },
   "outputs": [
    {
     "data": {
      "text/html": [
       "<div>\n",
       "<style scoped>\n",
       "    .dataframe tbody tr th:only-of-type {\n",
       "        vertical-align: middle;\n",
       "    }\n",
       "\n",
       "    .dataframe tbody tr th {\n",
       "        vertical-align: top;\n",
       "    }\n",
       "\n",
       "    .dataframe thead th {\n",
       "        text-align: right;\n",
       "    }\n",
       "</style>\n",
       "<table border=\"1\" class=\"dataframe\">\n",
       "  <thead>\n",
       "    <tr style=\"text-align: right;\">\n",
       "      <th></th>\n",
       "      <th>all_nba</th>\n",
       "      <th>all_nba_pred</th>\n",
       "      <th>all_nba_prob</th>\n",
       "    </tr>\n",
       "    <tr>\n",
       "      <th>Player</th>\n",
       "      <th></th>\n",
       "      <th></th>\n",
       "      <th></th>\n",
       "    </tr>\n",
       "  </thead>\n",
       "  <tbody>\n",
       "    <tr>\n",
       "      <th>Nikola Jokić</th>\n",
       "      <td>1</td>\n",
       "      <td>1</td>\n",
       "      <td>0.931034</td>\n",
       "    </tr>\n",
       "    <tr>\n",
       "      <th>Trae Young</th>\n",
       "      <td>1</td>\n",
       "      <td>1</td>\n",
       "      <td>0.896552</td>\n",
       "    </tr>\n",
       "    <tr>\n",
       "      <th>Joel Embiid</th>\n",
       "      <td>1</td>\n",
       "      <td>1</td>\n",
       "      <td>0.862069</td>\n",
       "    </tr>\n",
       "    <tr>\n",
       "      <th>DeMar DeRozan</th>\n",
       "      <td>1</td>\n",
       "      <td>1</td>\n",
       "      <td>0.793103</td>\n",
       "    </tr>\n",
       "    <tr>\n",
       "      <th>Giannis Antetokounmpo</th>\n",
       "      <td>1</td>\n",
       "      <td>1</td>\n",
       "      <td>0.793103</td>\n",
       "    </tr>\n",
       "    <tr>\n",
       "      <th>Luka Dončić</th>\n",
       "      <td>1</td>\n",
       "      <td>1</td>\n",
       "      <td>0.758621</td>\n",
       "    </tr>\n",
       "    <tr>\n",
       "      <th>Jayson Tatum</th>\n",
       "      <td>1</td>\n",
       "      <td>1</td>\n",
       "      <td>0.758621</td>\n",
       "    </tr>\n",
       "    <tr>\n",
       "      <th>Karl-Anthony Towns</th>\n",
       "      <td>1</td>\n",
       "      <td>1</td>\n",
       "      <td>0.655172</td>\n",
       "    </tr>\n",
       "    <tr>\n",
       "      <th>LeBron James</th>\n",
       "      <td>1</td>\n",
       "      <td>1</td>\n",
       "      <td>0.551724</td>\n",
       "    </tr>\n",
       "    <tr>\n",
       "      <th>Kevin Durant</th>\n",
       "      <td>1</td>\n",
       "      <td>0</td>\n",
       "      <td>0.482759</td>\n",
       "    </tr>\n",
       "    <tr>\n",
       "      <th>Devin Booker</th>\n",
       "      <td>1</td>\n",
       "      <td>0</td>\n",
       "      <td>0.482759</td>\n",
       "    </tr>\n",
       "    <tr>\n",
       "      <th>Zach LaVine</th>\n",
       "      <td>0</td>\n",
       "      <td>0</td>\n",
       "      <td>0.413793</td>\n",
       "    </tr>\n",
       "    <tr>\n",
       "      <th>Donovan Mitchell</th>\n",
       "      <td>0</td>\n",
       "      <td>0</td>\n",
       "      <td>0.413793</td>\n",
       "    </tr>\n",
       "    <tr>\n",
       "      <th>LaMelo Ball</th>\n",
       "      <td>0</td>\n",
       "      <td>0</td>\n",
       "      <td>0.344828</td>\n",
       "    </tr>\n",
       "    <tr>\n",
       "      <th>Julius Randle</th>\n",
       "      <td>0</td>\n",
       "      <td>0</td>\n",
       "      <td>0.310345</td>\n",
       "    </tr>\n",
       "    <tr>\n",
       "      <th>Dejounte Murray</th>\n",
       "      <td>0</td>\n",
       "      <td>0</td>\n",
       "      <td>0.310345</td>\n",
       "    </tr>\n",
       "    <tr>\n",
       "      <th>Stephen Curry</th>\n",
       "      <td>1</td>\n",
       "      <td>0</td>\n",
       "      <td>0.310345</td>\n",
       "    </tr>\n",
       "    <tr>\n",
       "      <th>Darius Garland</th>\n",
       "      <td>0</td>\n",
       "      <td>0</td>\n",
       "      <td>0.275862</td>\n",
       "    </tr>\n",
       "    <tr>\n",
       "      <th>Jaylen Brown</th>\n",
       "      <td>0</td>\n",
       "      <td>0</td>\n",
       "      <td>0.275862</td>\n",
       "    </tr>\n",
       "    <tr>\n",
       "      <th>James Harden</th>\n",
       "      <td>0</td>\n",
       "      <td>0</td>\n",
       "      <td>0.275862</td>\n",
       "    </tr>\n",
       "  </tbody>\n",
       "</table>\n",
       "</div>"
      ],
      "text/plain": [
       "                       all_nba  all_nba_pred  all_nba_prob\n",
       "Player                                                    \n",
       "Nikola Jokić                 1             1      0.931034\n",
       "Trae Young                   1             1      0.896552\n",
       "Joel Embiid                  1             1      0.862069\n",
       "DeMar DeRozan                1             1      0.793103\n",
       "Giannis Antetokounmpo        1             1      0.793103\n",
       "Luka Dončić                  1             1      0.758621\n",
       "Jayson Tatum                 1             1      0.758621\n",
       "Karl-Anthony Towns           1             1      0.655172\n",
       "LeBron James                 1             1      0.551724\n",
       "Kevin Durant                 1             0      0.482759\n",
       "Devin Booker                 1             0      0.482759\n",
       "Zach LaVine                  0             0      0.413793\n",
       "Donovan Mitchell             0             0      0.413793\n",
       "LaMelo Ball                  0             0      0.344828\n",
       "Julius Randle                0             0      0.310345\n",
       "Dejounte Murray              0             0      0.310345\n",
       "Stephen Curry                1             0      0.310345\n",
       "Darius Garland               0             0      0.275862\n",
       "Jaylen Brown                 0             0      0.275862\n",
       "James Harden                 0             0      0.275862"
      ]
     },
     "execution_count": 35,
     "metadata": {},
     "output_type": "execute_result"
    }
   ],
   "source": [
    "df_2022['all_nba_prob'] = grid_search.predict_proba(df_2022[numeric_columns].drop(columns='all_nba'))[:,1]\n",
    "\n",
    "df_2022[['all_nba', 'all_nba_pred', 'all_nba_prob']].sort_values('all_nba_prob', ascending = False).head(20)"
   ]
  },
  {
   "cell_type": "markdown",
   "metadata": {},
   "source": [
    "## Model Selection - SVM"
   ]
  },
  {
   "cell_type": "code",
   "execution_count": 48,
   "metadata": {},
   "outputs": [
    {
     "name": "stdout",
     "output_type": "stream",
     "text": [
      "Fitting 3 folds for each of 50 candidates, totalling 150 fits\n"
     ]
    }
   ],
   "source": [
    "C_range = np.logspace(-2, 2, 5)\n",
    "gamma_range = np.logspace(-2, 2, 5)\n",
    "parameters = {'kernel':('linear', 'rbf'), 'C':C_range, 'gamma':gamma_range}\n",
    "svc = svm.SVC(probability=True)\n",
    "\n",
    "grid2 = GridSearchCV(svc, parameters, cv=3, n_jobs=-1, scoring=['roc_auc', 'precision', 'f1'], \n",
    "                  refit='precision', verbose=3)\n",
    "\n",
    "grid_search2 = grid2.fit(X_train, y_train)"
   ]
  },
  {
   "cell_type": "code",
   "execution_count": 49,
   "metadata": {},
   "outputs": [
    {
     "data": {
      "text/plain": [
       "{'C': 0.01, 'gamma': 0.01, 'kernel': 'linear'}"
      ]
     },
     "execution_count": 49,
     "metadata": {},
     "output_type": "execute_result"
    }
   ],
   "source": [
    "grid_search2.best_params_"
   ]
  },
  {
   "cell_type": "code",
   "execution_count": 50,
   "metadata": {},
   "outputs": [
    {
     "data": {
      "text/plain": [
       "0.8110640653106408"
      ]
     },
     "execution_count": 50,
     "metadata": {},
     "output_type": "execute_result"
    }
   ],
   "source": [
    "grid_search2.best_score_"
   ]
  },
  {
   "cell_type": "code",
   "execution_count": 51,
   "metadata": {
    "scrolled": true
   },
   "outputs": [
    {
     "name": "stdout",
     "output_type": "stream",
     "text": [
      "Precision: 0.5644171779141104\n",
      "Recall: 0.8363636363636363\n",
      "ROC AUC Score: 0.9082739197726638\n"
     ]
    }
   ],
   "source": [
    "# Test set metric scores\n",
    "\n",
    "print(\"Precision:\",precision_score(grid_search2.predict(X_test), y_test))\n",
    "print(\"Recall:\",recall_score(grid_search2.predict(X_test), y_test))\n",
    "print(\"ROC AUC Score:\",roc_auc_score(grid_search2.predict(X_test), y_test))"
   ]
  },
  {
   "cell_type": "code",
   "execution_count": 52,
   "metadata": {},
   "outputs": [],
   "source": [
    "df_2022 = df[df['Year']==2022]"
   ]
  },
  {
   "cell_type": "code",
   "execution_count": 53,
   "metadata": {},
   "outputs": [
    {
     "data": {
      "text/plain": [
       "0.8125"
      ]
     },
     "execution_count": 53,
     "metadata": {},
     "output_type": "execute_result"
    }
   ],
   "source": [
    "grid_search2.score(df_2022[numeric_columns].drop(columns='all_nba'), df_2022['all_nba'])"
   ]
  },
  {
   "cell_type": "code",
   "execution_count": 54,
   "metadata": {
    "scrolled": false
   },
   "outputs": [
    {
     "data": {
      "text/html": [
       "<div>\n",
       "<style scoped>\n",
       "    .dataframe tbody tr th:only-of-type {\n",
       "        vertical-align: middle;\n",
       "    }\n",
       "\n",
       "    .dataframe tbody tr th {\n",
       "        vertical-align: top;\n",
       "    }\n",
       "\n",
       "    .dataframe thead th {\n",
       "        text-align: right;\n",
       "    }\n",
       "</style>\n",
       "<table border=\"1\" class=\"dataframe\">\n",
       "  <thead>\n",
       "    <tr style=\"text-align: right;\">\n",
       "      <th></th>\n",
       "      <th>all_nba</th>\n",
       "      <th>all_nba_pred</th>\n",
       "    </tr>\n",
       "    <tr>\n",
       "      <th>Player</th>\n",
       "      <th></th>\n",
       "      <th></th>\n",
       "    </tr>\n",
       "  </thead>\n",
       "  <tbody>\n",
       "    <tr>\n",
       "      <th>Giannis Antetokounmpo</th>\n",
       "      <td>1</td>\n",
       "      <td>1</td>\n",
       "    </tr>\n",
       "    <tr>\n",
       "      <th>Devin Booker</th>\n",
       "      <td>1</td>\n",
       "      <td>1</td>\n",
       "    </tr>\n",
       "    <tr>\n",
       "      <th>Jimmy Butler</th>\n",
       "      <td>0</td>\n",
       "      <td>1</td>\n",
       "    </tr>\n",
       "    <tr>\n",
       "      <th>Stephen Curry</th>\n",
       "      <td>1</td>\n",
       "      <td>1</td>\n",
       "    </tr>\n",
       "    <tr>\n",
       "      <th>DeMar DeRozan</th>\n",
       "      <td>1</td>\n",
       "      <td>1</td>\n",
       "    </tr>\n",
       "    <tr>\n",
       "      <th>Luka Dončić</th>\n",
       "      <td>1</td>\n",
       "      <td>1</td>\n",
       "    </tr>\n",
       "    <tr>\n",
       "      <th>Kevin Durant</th>\n",
       "      <td>1</td>\n",
       "      <td>1</td>\n",
       "    </tr>\n",
       "    <tr>\n",
       "      <th>Joel Embiid</th>\n",
       "      <td>1</td>\n",
       "      <td>1</td>\n",
       "    </tr>\n",
       "    <tr>\n",
       "      <th>James Harden</th>\n",
       "      <td>0</td>\n",
       "      <td>1</td>\n",
       "    </tr>\n",
       "    <tr>\n",
       "      <th>LeBron James</th>\n",
       "      <td>1</td>\n",
       "      <td>1</td>\n",
       "    </tr>\n",
       "    <tr>\n",
       "      <th>Nikola Jokić</th>\n",
       "      <td>1</td>\n",
       "      <td>1</td>\n",
       "    </tr>\n",
       "    <tr>\n",
       "      <th>Ja Morant</th>\n",
       "      <td>1</td>\n",
       "      <td>1</td>\n",
       "    </tr>\n",
       "    <tr>\n",
       "      <th>Dejounte Murray</th>\n",
       "      <td>0</td>\n",
       "      <td>1</td>\n",
       "    </tr>\n",
       "    <tr>\n",
       "      <th>Jayson Tatum</th>\n",
       "      <td>1</td>\n",
       "      <td>1</td>\n",
       "    </tr>\n",
       "    <tr>\n",
       "      <th>Karl-Anthony Towns</th>\n",
       "      <td>1</td>\n",
       "      <td>1</td>\n",
       "    </tr>\n",
       "    <tr>\n",
       "      <th>Trae Young</th>\n",
       "      <td>1</td>\n",
       "      <td>1</td>\n",
       "    </tr>\n",
       "  </tbody>\n",
       "</table>\n",
       "</div>"
      ],
      "text/plain": [
       "                       all_nba  all_nba_pred\n",
       "Player                                      \n",
       "Giannis Antetokounmpo        1             1\n",
       "Devin Booker                 1             1\n",
       "Jimmy Butler                 0             1\n",
       "Stephen Curry                1             1\n",
       "DeMar DeRozan                1             1\n",
       "Luka Dončić                  1             1\n",
       "Kevin Durant                 1             1\n",
       "Joel Embiid                  1             1\n",
       "James Harden                 0             1\n",
       "LeBron James                 1             1\n",
       "Nikola Jokić                 1             1\n",
       "Ja Morant                    1             1\n",
       "Dejounte Murray              0             1\n",
       "Jayson Tatum                 1             1\n",
       "Karl-Anthony Towns           1             1\n",
       "Trae Young                   1             1"
      ]
     },
     "execution_count": 54,
     "metadata": {},
     "output_type": "execute_result"
    }
   ],
   "source": [
    "df_2022['all_nba_pred'] = grid_search2.predict(df_2022[numeric_columns].drop(columns='all_nba'))\n",
    "\n",
    "df_2022[df_2022['all_nba_pred'] == 1][['all_nba', 'all_nba_pred']].head(30)"
   ]
  },
  {
   "cell_type": "code",
   "execution_count": 55,
   "metadata": {
    "scrolled": false
   },
   "outputs": [
    {
     "data": {
      "text/html": [
       "<div>\n",
       "<style scoped>\n",
       "    .dataframe tbody tr th:only-of-type {\n",
       "        vertical-align: middle;\n",
       "    }\n",
       "\n",
       "    .dataframe tbody tr th {\n",
       "        vertical-align: top;\n",
       "    }\n",
       "\n",
       "    .dataframe thead th {\n",
       "        text-align: right;\n",
       "    }\n",
       "</style>\n",
       "<table border=\"1\" class=\"dataframe\">\n",
       "  <thead>\n",
       "    <tr style=\"text-align: right;\">\n",
       "      <th></th>\n",
       "      <th>all_nba</th>\n",
       "      <th>all_nba_pred</th>\n",
       "      <th>all_nba_prob</th>\n",
       "    </tr>\n",
       "    <tr>\n",
       "      <th>Player</th>\n",
       "      <th></th>\n",
       "      <th></th>\n",
       "      <th></th>\n",
       "    </tr>\n",
       "  </thead>\n",
       "  <tbody>\n",
       "    <tr>\n",
       "      <th>Nikola Jokić</th>\n",
       "      <td>1</td>\n",
       "      <td>1</td>\n",
       "      <td>0.999987</td>\n",
       "    </tr>\n",
       "    <tr>\n",
       "      <th>Joel Embiid</th>\n",
       "      <td>1</td>\n",
       "      <td>1</td>\n",
       "      <td>0.996352</td>\n",
       "    </tr>\n",
       "    <tr>\n",
       "      <th>Giannis Antetokounmpo</th>\n",
       "      <td>1</td>\n",
       "      <td>1</td>\n",
       "      <td>0.995834</td>\n",
       "    </tr>\n",
       "    <tr>\n",
       "      <th>LeBron James</th>\n",
       "      <td>1</td>\n",
       "      <td>1</td>\n",
       "      <td>0.953895</td>\n",
       "    </tr>\n",
       "    <tr>\n",
       "      <th>Trae Young</th>\n",
       "      <td>1</td>\n",
       "      <td>1</td>\n",
       "      <td>0.935650</td>\n",
       "    </tr>\n",
       "    <tr>\n",
       "      <th>Luka Dončić</th>\n",
       "      <td>1</td>\n",
       "      <td>1</td>\n",
       "      <td>0.929972</td>\n",
       "    </tr>\n",
       "    <tr>\n",
       "      <th>DeMar DeRozan</th>\n",
       "      <td>1</td>\n",
       "      <td>1</td>\n",
       "      <td>0.920286</td>\n",
       "    </tr>\n",
       "    <tr>\n",
       "      <th>Kevin Durant</th>\n",
       "      <td>1</td>\n",
       "      <td>1</td>\n",
       "      <td>0.912629</td>\n",
       "    </tr>\n",
       "    <tr>\n",
       "      <th>James Harden</th>\n",
       "      <td>0</td>\n",
       "      <td>1</td>\n",
       "      <td>0.867358</td>\n",
       "    </tr>\n",
       "    <tr>\n",
       "      <th>Dejounte Murray</th>\n",
       "      <td>0</td>\n",
       "      <td>1</td>\n",
       "      <td>0.862204</td>\n",
       "    </tr>\n",
       "    <tr>\n",
       "      <th>Jayson Tatum</th>\n",
       "      <td>1</td>\n",
       "      <td>1</td>\n",
       "      <td>0.804859</td>\n",
       "    </tr>\n",
       "    <tr>\n",
       "      <th>Karl-Anthony Towns</th>\n",
       "      <td>1</td>\n",
       "      <td>1</td>\n",
       "      <td>0.734579</td>\n",
       "    </tr>\n",
       "    <tr>\n",
       "      <th>Stephen Curry</th>\n",
       "      <td>1</td>\n",
       "      <td>1</td>\n",
       "      <td>0.647410</td>\n",
       "    </tr>\n",
       "    <tr>\n",
       "      <th>Ja Morant</th>\n",
       "      <td>1</td>\n",
       "      <td>1</td>\n",
       "      <td>0.572177</td>\n",
       "    </tr>\n",
       "    <tr>\n",
       "      <th>Jimmy Butler</th>\n",
       "      <td>0</td>\n",
       "      <td>1</td>\n",
       "      <td>0.554264</td>\n",
       "    </tr>\n",
       "    <tr>\n",
       "      <th>Devin Booker</th>\n",
       "      <td>1</td>\n",
       "      <td>1</td>\n",
       "      <td>0.537579</td>\n",
       "    </tr>\n",
       "    <tr>\n",
       "      <th>Chris Paul</th>\n",
       "      <td>1</td>\n",
       "      <td>0</td>\n",
       "      <td>0.484365</td>\n",
       "    </tr>\n",
       "    <tr>\n",
       "      <th>Pascal Siakam</th>\n",
       "      <td>1</td>\n",
       "      <td>0</td>\n",
       "      <td>0.455842</td>\n",
       "    </tr>\n",
       "    <tr>\n",
       "      <th>Rudy Gobert</th>\n",
       "      <td>0</td>\n",
       "      <td>0</td>\n",
       "      <td>0.402078</td>\n",
       "    </tr>\n",
       "    <tr>\n",
       "      <th>Donovan Mitchell</th>\n",
       "      <td>0</td>\n",
       "      <td>0</td>\n",
       "      <td>0.322259</td>\n",
       "    </tr>\n",
       "  </tbody>\n",
       "</table>\n",
       "</div>"
      ],
      "text/plain": [
       "                       all_nba  all_nba_pred  all_nba_prob\n",
       "Player                                                    \n",
       "Nikola Jokić                 1             1      0.999987\n",
       "Joel Embiid                  1             1      0.996352\n",
       "Giannis Antetokounmpo        1             1      0.995834\n",
       "LeBron James                 1             1      0.953895\n",
       "Trae Young                   1             1      0.935650\n",
       "Luka Dončić                  1             1      0.929972\n",
       "DeMar DeRozan                1             1      0.920286\n",
       "Kevin Durant                 1             1      0.912629\n",
       "James Harden                 0             1      0.867358\n",
       "Dejounte Murray              0             1      0.862204\n",
       "Jayson Tatum                 1             1      0.804859\n",
       "Karl-Anthony Towns           1             1      0.734579\n",
       "Stephen Curry                1             1      0.647410\n",
       "Ja Morant                    1             1      0.572177\n",
       "Jimmy Butler                 0             1      0.554264\n",
       "Devin Booker                 1             1      0.537579\n",
       "Chris Paul                   1             0      0.484365\n",
       "Pascal Siakam                1             0      0.455842\n",
       "Rudy Gobert                  0             0      0.402078\n",
       "Donovan Mitchell             0             0      0.322259"
      ]
     },
     "execution_count": 55,
     "metadata": {},
     "output_type": "execute_result"
    }
   ],
   "source": [
    "df_2022['all_nba_prob'] = grid_search2.predict_proba(df_2022[numeric_columns].drop(columns='all_nba'))[:,1]\n",
    "\n",
    "df_2022[['all_nba', 'all_nba_pred', 'all_nba_prob']].sort_values('all_nba_prob', ascending = False).head(20)"
   ]
  },
  {
   "cell_type": "markdown",
   "metadata": {},
   "source": [
    "## Model Selection - Random Forest"
   ]
  },
  {
   "cell_type": "code",
   "execution_count": 59,
   "metadata": {},
   "outputs": [],
   "source": [
    "rfc=RandomForestClassifier(random_state=42, n_jobs = -1)\n",
    "\n",
    "param_grid = { \n",
    "    'n_estimators': [200, 400, 600], #[200, 500],\n",
    "    'max_features': ['auto', 'sqrt', 'log2'],\n",
    "    'max_depth' : [5, 10, 20], #[4,5,6,7,8],\n",
    "    'criterion' :['gini', 'entropy']\n",
    "}\n",
    "\n",
    "CV_rfc = GridSearchCV(estimator=rfc, param_grid = param_grid, cv= 3, n_jobs = -1).fit(X_train, y_train)"
   ]
  },
  {
   "cell_type": "code",
   "execution_count": 60,
   "metadata": {},
   "outputs": [
    {
     "data": {
      "text/plain": [
       "{'criterion': 'gini',\n",
       " 'max_depth': 20,\n",
       " 'max_features': 'auto',\n",
       " 'n_estimators': 200}"
      ]
     },
     "execution_count": 60,
     "metadata": {},
     "output_type": "execute_result"
    }
   ],
   "source": [
    "CV_rfc.best_params_"
   ]
  },
  {
   "cell_type": "code",
   "execution_count": 61,
   "metadata": {},
   "outputs": [
    {
     "data": {
      "text/plain": [
       "0.9753171084286397"
      ]
     },
     "execution_count": 61,
     "metadata": {},
     "output_type": "execute_result"
    }
   ],
   "source": [
    "CV_rfc.best_score_"
   ]
  },
  {
   "cell_type": "code",
   "execution_count": 62,
   "metadata": {
    "scrolled": true
   },
   "outputs": [
    {
     "name": "stdout",
     "output_type": "stream",
     "text": [
      "Precision: 0.5766871165644172\n",
      "Recall: 0.7899159663865546\n",
      "ROC AUC Score: 0.8853049333891362\n"
     ]
    }
   ],
   "source": [
    "# Test set metric scores\n",
    "\n",
    "print(\"Precision:\",precision_score(CV_rfc.predict(X_test), y_test))\n",
    "print(\"Recall:\",recall_score(CV_rfc.predict(X_test), y_test))\n",
    "print(\"ROC AUC Score:\",roc_auc_score(CV_rfc.predict(X_test), y_test))"
   ]
  },
  {
   "cell_type": "code",
   "execution_count": 63,
   "metadata": {},
   "outputs": [],
   "source": [
    "df_2022 = df[df['Year']==2022]"
   ]
  },
  {
   "cell_type": "code",
   "execution_count": 64,
   "metadata": {},
   "outputs": [
    {
     "data": {
      "text/plain": [
       "0.9874371859296482"
      ]
     },
     "execution_count": 64,
     "metadata": {},
     "output_type": "execute_result"
    }
   ],
   "source": [
    "CV_rfc.score(df_2022[numeric_columns].drop(columns='all_nba'), df_2022['all_nba'])"
   ]
  },
  {
   "cell_type": "code",
   "execution_count": 65,
   "metadata": {
    "scrolled": false
   },
   "outputs": [
    {
     "data": {
      "text/html": [
       "<div>\n",
       "<style scoped>\n",
       "    .dataframe tbody tr th:only-of-type {\n",
       "        vertical-align: middle;\n",
       "    }\n",
       "\n",
       "    .dataframe tbody tr th {\n",
       "        vertical-align: top;\n",
       "    }\n",
       "\n",
       "    .dataframe thead th {\n",
       "        text-align: right;\n",
       "    }\n",
       "</style>\n",
       "<table border=\"1\" class=\"dataframe\">\n",
       "  <thead>\n",
       "    <tr style=\"text-align: right;\">\n",
       "      <th></th>\n",
       "      <th>all_nba</th>\n",
       "      <th>all_nba_pred</th>\n",
       "    </tr>\n",
       "    <tr>\n",
       "      <th>Player</th>\n",
       "      <th></th>\n",
       "      <th></th>\n",
       "    </tr>\n",
       "  </thead>\n",
       "  <tbody>\n",
       "    <tr>\n",
       "      <th>Giannis Antetokounmpo</th>\n",
       "      <td>1</td>\n",
       "      <td>1</td>\n",
       "    </tr>\n",
       "    <tr>\n",
       "      <th>DeMar DeRozan</th>\n",
       "      <td>1</td>\n",
       "      <td>1</td>\n",
       "    </tr>\n",
       "    <tr>\n",
       "      <th>Luka Dončić</th>\n",
       "      <td>1</td>\n",
       "      <td>1</td>\n",
       "    </tr>\n",
       "    <tr>\n",
       "      <th>Kevin Durant</th>\n",
       "      <td>1</td>\n",
       "      <td>1</td>\n",
       "    </tr>\n",
       "    <tr>\n",
       "      <th>Joel Embiid</th>\n",
       "      <td>1</td>\n",
       "      <td>1</td>\n",
       "    </tr>\n",
       "    <tr>\n",
       "      <th>Rudy Gobert</th>\n",
       "      <td>0</td>\n",
       "      <td>1</td>\n",
       "    </tr>\n",
       "    <tr>\n",
       "      <th>LeBron James</th>\n",
       "      <td>1</td>\n",
       "      <td>1</td>\n",
       "    </tr>\n",
       "    <tr>\n",
       "      <th>Nikola Jokić</th>\n",
       "      <td>1</td>\n",
       "      <td>1</td>\n",
       "    </tr>\n",
       "    <tr>\n",
       "      <th>Ja Morant</th>\n",
       "      <td>1</td>\n",
       "      <td>1</td>\n",
       "    </tr>\n",
       "    <tr>\n",
       "      <th>Jayson Tatum</th>\n",
       "      <td>1</td>\n",
       "      <td>1</td>\n",
       "    </tr>\n",
       "    <tr>\n",
       "      <th>Karl-Anthony Towns</th>\n",
       "      <td>1</td>\n",
       "      <td>1</td>\n",
       "    </tr>\n",
       "    <tr>\n",
       "      <th>Trae Young</th>\n",
       "      <td>1</td>\n",
       "      <td>1</td>\n",
       "    </tr>\n",
       "  </tbody>\n",
       "</table>\n",
       "</div>"
      ],
      "text/plain": [
       "                       all_nba  all_nba_pred\n",
       "Player                                      \n",
       "Giannis Antetokounmpo        1             1\n",
       "DeMar DeRozan                1             1\n",
       "Luka Dončić                  1             1\n",
       "Kevin Durant                 1             1\n",
       "Joel Embiid                  1             1\n",
       "Rudy Gobert                  0             1\n",
       "LeBron James                 1             1\n",
       "Nikola Jokić                 1             1\n",
       "Ja Morant                    1             1\n",
       "Jayson Tatum                 1             1\n",
       "Karl-Anthony Towns           1             1\n",
       "Trae Young                   1             1"
      ]
     },
     "execution_count": 65,
     "metadata": {},
     "output_type": "execute_result"
    }
   ],
   "source": [
    "df_2022['all_nba_pred'] = CV_rfc.predict(df_2022[numeric_columns].drop(columns='all_nba'))\n",
    "\n",
    "df_2022[df_2022['all_nba_pred'] == 1][['all_nba', 'all_nba_pred']].head(30)"
   ]
  },
  {
   "cell_type": "code",
   "execution_count": 66,
   "metadata": {
    "scrolled": false
   },
   "outputs": [
    {
     "data": {
      "text/html": [
       "<div>\n",
       "<style scoped>\n",
       "    .dataframe tbody tr th:only-of-type {\n",
       "        vertical-align: middle;\n",
       "    }\n",
       "\n",
       "    .dataframe tbody tr th {\n",
       "        vertical-align: top;\n",
       "    }\n",
       "\n",
       "    .dataframe thead th {\n",
       "        text-align: right;\n",
       "    }\n",
       "</style>\n",
       "<table border=\"1\" class=\"dataframe\">\n",
       "  <thead>\n",
       "    <tr style=\"text-align: right;\">\n",
       "      <th></th>\n",
       "      <th>all_nba</th>\n",
       "      <th>all_nba_pred</th>\n",
       "      <th>all_nba_prob</th>\n",
       "    </tr>\n",
       "    <tr>\n",
       "      <th>Player</th>\n",
       "      <th></th>\n",
       "      <th></th>\n",
       "      <th></th>\n",
       "    </tr>\n",
       "  </thead>\n",
       "  <tbody>\n",
       "    <tr>\n",
       "      <th>Giannis Antetokounmpo</th>\n",
       "      <td>1</td>\n",
       "      <td>1</td>\n",
       "      <td>0.960</td>\n",
       "    </tr>\n",
       "    <tr>\n",
       "      <th>Nikola Jokić</th>\n",
       "      <td>1</td>\n",
       "      <td>1</td>\n",
       "      <td>0.940</td>\n",
       "    </tr>\n",
       "    <tr>\n",
       "      <th>Joel Embiid</th>\n",
       "      <td>1</td>\n",
       "      <td>1</td>\n",
       "      <td>0.940</td>\n",
       "    </tr>\n",
       "    <tr>\n",
       "      <th>DeMar DeRozan</th>\n",
       "      <td>1</td>\n",
       "      <td>1</td>\n",
       "      <td>0.905</td>\n",
       "    </tr>\n",
       "    <tr>\n",
       "      <th>Luka Dončić</th>\n",
       "      <td>1</td>\n",
       "      <td>1</td>\n",
       "      <td>0.850</td>\n",
       "    </tr>\n",
       "    <tr>\n",
       "      <th>Kevin Durant</th>\n",
       "      <td>1</td>\n",
       "      <td>1</td>\n",
       "      <td>0.825</td>\n",
       "    </tr>\n",
       "    <tr>\n",
       "      <th>Trae Young</th>\n",
       "      <td>1</td>\n",
       "      <td>1</td>\n",
       "      <td>0.790</td>\n",
       "    </tr>\n",
       "    <tr>\n",
       "      <th>Jayson Tatum</th>\n",
       "      <td>1</td>\n",
       "      <td>1</td>\n",
       "      <td>0.785</td>\n",
       "    </tr>\n",
       "    <tr>\n",
       "      <th>LeBron James</th>\n",
       "      <td>1</td>\n",
       "      <td>1</td>\n",
       "      <td>0.745</td>\n",
       "    </tr>\n",
       "    <tr>\n",
       "      <th>Rudy Gobert</th>\n",
       "      <td>0</td>\n",
       "      <td>1</td>\n",
       "      <td>0.655</td>\n",
       "    </tr>\n",
       "    <tr>\n",
       "      <th>Ja Morant</th>\n",
       "      <td>1</td>\n",
       "      <td>1</td>\n",
       "      <td>0.645</td>\n",
       "    </tr>\n",
       "    <tr>\n",
       "      <th>Karl-Anthony Towns</th>\n",
       "      <td>1</td>\n",
       "      <td>1</td>\n",
       "      <td>0.640</td>\n",
       "    </tr>\n",
       "    <tr>\n",
       "      <th>Stephen Curry</th>\n",
       "      <td>1</td>\n",
       "      <td>0</td>\n",
       "      <td>0.490</td>\n",
       "    </tr>\n",
       "    <tr>\n",
       "      <th>Jimmy Butler</th>\n",
       "      <td>0</td>\n",
       "      <td>0</td>\n",
       "      <td>0.445</td>\n",
       "    </tr>\n",
       "    <tr>\n",
       "      <th>Pascal Siakam</th>\n",
       "      <td>1</td>\n",
       "      <td>0</td>\n",
       "      <td>0.440</td>\n",
       "    </tr>\n",
       "    <tr>\n",
       "      <th>Donovan Mitchell</th>\n",
       "      <td>0</td>\n",
       "      <td>0</td>\n",
       "      <td>0.425</td>\n",
       "    </tr>\n",
       "    <tr>\n",
       "      <th>Devin Booker</th>\n",
       "      <td>1</td>\n",
       "      <td>0</td>\n",
       "      <td>0.425</td>\n",
       "    </tr>\n",
       "    <tr>\n",
       "      <th>James Harden</th>\n",
       "      <td>0</td>\n",
       "      <td>0</td>\n",
       "      <td>0.410</td>\n",
       "    </tr>\n",
       "    <tr>\n",
       "      <th>Zach LaVine</th>\n",
       "      <td>0</td>\n",
       "      <td>0</td>\n",
       "      <td>0.355</td>\n",
       "    </tr>\n",
       "    <tr>\n",
       "      <th>Dejounte Murray</th>\n",
       "      <td>0</td>\n",
       "      <td>0</td>\n",
       "      <td>0.310</td>\n",
       "    </tr>\n",
       "  </tbody>\n",
       "</table>\n",
       "</div>"
      ],
      "text/plain": [
       "                       all_nba  all_nba_pred  all_nba_prob\n",
       "Player                                                    \n",
       "Giannis Antetokounmpo        1             1         0.960\n",
       "Nikola Jokić                 1             1         0.940\n",
       "Joel Embiid                  1             1         0.940\n",
       "DeMar DeRozan                1             1         0.905\n",
       "Luka Dončić                  1             1         0.850\n",
       "Kevin Durant                 1             1         0.825\n",
       "Trae Young                   1             1         0.790\n",
       "Jayson Tatum                 1             1         0.785\n",
       "LeBron James                 1             1         0.745\n",
       "Rudy Gobert                  0             1         0.655\n",
       "Ja Morant                    1             1         0.645\n",
       "Karl-Anthony Towns           1             1         0.640\n",
       "Stephen Curry                1             0         0.490\n",
       "Jimmy Butler                 0             0         0.445\n",
       "Pascal Siakam                1             0         0.440\n",
       "Donovan Mitchell             0             0         0.425\n",
       "Devin Booker                 1             0         0.425\n",
       "James Harden                 0             0         0.410\n",
       "Zach LaVine                  0             0         0.355\n",
       "Dejounte Murray              0             0         0.310"
      ]
     },
     "execution_count": 66,
     "metadata": {},
     "output_type": "execute_result"
    }
   ],
   "source": [
    "df_2022['all_nba_prob'] = CV_rfc.predict_proba(df_2022[numeric_columns].drop(columns='all_nba'))[:,1]\n",
    "\n",
    "df_2022[['all_nba', 'all_nba_pred', 'all_nba_prob']].sort_values('all_nba_prob', ascending = False).head(20)"
   ]
  },
  {
   "cell_type": "markdown",
   "metadata": {},
   "source": [
    "## Multiple Classifier Grid Search"
   ]
  },
  {
   "cell_type": "code",
   "execution_count": 71,
   "metadata": {},
   "outputs": [],
   "source": [
    "# estimators for grid search\n",
    "\n",
    "rf_clf = RandomForestClassifier(random_state=42)\n",
    "sv_clf = svm.SVC(probability=True, random_state=42)\n",
    "log_clf = LogisticRegression(random_state=42)\n",
    "knn_clf = KNeighborsClassifier()"
   ]
  },
  {
   "cell_type": "code",
   "execution_count": 72,
   "metadata": {},
   "outputs": [],
   "source": [
    "# Initiaze the hyperparameters for each dictionary\n",
    "\n",
    "\n",
    "rf_param = {}\n",
    "rf_param['classifier__n_estimators'] = [10, 50, 100, 250, 500]\n",
    "rf_param['classifier__max_depth'] = [5, 10, 20]\n",
    "rf_param['classifier__max_features'] = ['auto', 'sqrt', 'log2']\n",
    "rf_param['classifier__class_weight'] = [None, 'balanced', {0:1,1:5}, {0:1,1:10}, {0:1,1:25}]\n",
    "rf_param['classifier'] = [rf_clf]\n",
    "\n",
    "sv_param = {}\n",
    "sv_param['classifier__C'] = np.logspace(-2, 2, 5)\n",
    "sv_param['classifier__class_weight'] = [None, 'balanced', {0:1,1:5}, {0:1,1:10}, {0:1,1:25}]\n",
    "sv_param['classifier__gamma'] = np.logspace(-2, 2, 5)\n",
    "sv_param['classifier__kernel'] = ['linear', 'rbf']\n",
    "sv_param['classifier'] = [sv_clf]\n",
    "\n",
    "log_param = {}\n",
    "log_param['classifier__C'] = [10**-2, 10**-1, 10**0, 10**1, 10**2]\n",
    "log_param['classifier__penalty'] = ['none', 'l2']\n",
    "log_param['classifier__class_weight'] = [None, 'balanced', {0:1,1:5}, {0:1,1:10}, {0:1,1:25}]\n",
    "log_param['classifier'] = [log_clf]\n",
    "\n",
    "knn_param = {}\n",
    "knn_param['classifier__n_neighbors'] = list(range(1, 31,2))\n",
    "knn_param['classifier'] = [knn_clf]"
   ]
  },
  {
   "cell_type": "code",
   "execution_count": 73,
   "metadata": {},
   "outputs": [],
   "source": [
    "pipeline = Pipeline([('scaler', StandardScaler()), ('classifier', rf_clf)])\n",
    "params = [rf_param, knn_param, sv_param, log_param]"
   ]
  },
  {
   "cell_type": "code",
   "execution_count": 74,
   "metadata": {},
   "outputs": [
    {
     "name": "stdout",
     "output_type": "stream",
     "text": [
      "Fitting 3 folds for each of 540 candidates, totalling 1620 fits\n",
      "Wall time: 7min 11s\n"
     ]
    }
   ],
   "source": [
    "%%time\n",
    "\n",
    "# Train the grid search model\n",
    "gs = GridSearchCV(pipeline, params, cv=3, n_jobs=-1, scoring=('f1_micro', 'roc_auc', 'precision'), \n",
    "                  refit='precision', verbose=3).fit(X_train, y_train)"
   ]
  },
  {
   "cell_type": "code",
   "execution_count": 75,
   "metadata": {},
   "outputs": [
    {
     "data": {
      "text/plain": [
       "{'classifier': SVC(C=0.1, gamma=0.01, probability=True, random_state=42),\n",
       " 'classifier__C': 0.1,\n",
       " 'classifier__class_weight': None,\n",
       " 'classifier__gamma': 0.01,\n",
       " 'classifier__kernel': 'rbf'}"
      ]
     },
     "execution_count": 75,
     "metadata": {},
     "output_type": "execute_result"
    }
   ],
   "source": [
    "gs.best_params_"
   ]
  },
  {
   "cell_type": "code",
   "execution_count": 76,
   "metadata": {},
   "outputs": [
    {
     "data": {
      "text/plain": [
       "0.9577308656256025"
      ]
     },
     "execution_count": 76,
     "metadata": {},
     "output_type": "execute_result"
    }
   ],
   "source": [
    "gs.best_score_"
   ]
  },
  {
   "cell_type": "code",
   "execution_count": 77,
   "metadata": {
    "scrolled": true
   },
   "outputs": [
    {
     "name": "stdout",
     "output_type": "stream",
     "text": [
      "Precision: 0.27607361963190186\n",
      "Recall: 0.8333333333333334\n",
      "ROC AUC Score: 0.9004534212695796\n"
     ]
    }
   ],
   "source": [
    "# Test set metric scores\n",
    "\n",
    "print(\"Precision:\",precision_score(gs.predict(X_test), y_test))\n",
    "print(\"Recall:\",recall_score(gs.predict(X_test), y_test))\n",
    "print(\"ROC AUC Score:\",roc_auc_score(gs.predict(X_test), y_test))"
   ]
  },
  {
   "cell_type": "code",
   "execution_count": 78,
   "metadata": {},
   "outputs": [],
   "source": [
    "df_2022 = df[df['Year']==2022]"
   ]
  },
  {
   "cell_type": "code",
   "execution_count": 79,
   "metadata": {},
   "outputs": [
    {
     "data": {
      "text/plain": [
       "1.0"
      ]
     },
     "execution_count": 79,
     "metadata": {},
     "output_type": "execute_result"
    }
   ],
   "source": [
    "gs.score(df_2022[numeric_columns].drop(columns='all_nba'), df_2022['all_nba'])"
   ]
  },
  {
   "cell_type": "code",
   "execution_count": 80,
   "metadata": {},
   "outputs": [
    {
     "data": {
      "text/html": [
       "<div>\n",
       "<style scoped>\n",
       "    .dataframe tbody tr th:only-of-type {\n",
       "        vertical-align: middle;\n",
       "    }\n",
       "\n",
       "    .dataframe tbody tr th {\n",
       "        vertical-align: top;\n",
       "    }\n",
       "\n",
       "    .dataframe thead th {\n",
       "        text-align: right;\n",
       "    }\n",
       "</style>\n",
       "<table border=\"1\" class=\"dataframe\">\n",
       "  <thead>\n",
       "    <tr style=\"text-align: right;\">\n",
       "      <th></th>\n",
       "      <th>all_nba</th>\n",
       "      <th>all_nba_pred</th>\n",
       "    </tr>\n",
       "    <tr>\n",
       "      <th>Player</th>\n",
       "      <th></th>\n",
       "      <th></th>\n",
       "    </tr>\n",
       "  </thead>\n",
       "  <tbody>\n",
       "    <tr>\n",
       "      <th>Giannis Antetokounmpo</th>\n",
       "      <td>1</td>\n",
       "      <td>1</td>\n",
       "    </tr>\n",
       "    <tr>\n",
       "      <th>DeMar DeRozan</th>\n",
       "      <td>1</td>\n",
       "      <td>1</td>\n",
       "    </tr>\n",
       "    <tr>\n",
       "      <th>Luka Dončić</th>\n",
       "      <td>1</td>\n",
       "      <td>1</td>\n",
       "    </tr>\n",
       "    <tr>\n",
       "      <th>Joel Embiid</th>\n",
       "      <td>1</td>\n",
       "      <td>1</td>\n",
       "    </tr>\n",
       "    <tr>\n",
       "      <th>LeBron James</th>\n",
       "      <td>1</td>\n",
       "      <td>1</td>\n",
       "    </tr>\n",
       "    <tr>\n",
       "      <th>Nikola Jokić</th>\n",
       "      <td>1</td>\n",
       "      <td>1</td>\n",
       "    </tr>\n",
       "    <tr>\n",
       "      <th>Trae Young</th>\n",
       "      <td>1</td>\n",
       "      <td>1</td>\n",
       "    </tr>\n",
       "  </tbody>\n",
       "</table>\n",
       "</div>"
      ],
      "text/plain": [
       "                       all_nba  all_nba_pred\n",
       "Player                                      \n",
       "Giannis Antetokounmpo        1             1\n",
       "DeMar DeRozan                1             1\n",
       "Luka Dončić                  1             1\n",
       "Joel Embiid                  1             1\n",
       "LeBron James                 1             1\n",
       "Nikola Jokić                 1             1\n",
       "Trae Young                   1             1"
      ]
     },
     "execution_count": 80,
     "metadata": {},
     "output_type": "execute_result"
    }
   ],
   "source": [
    "df_2022['all_nba_pred'] = gs.predict(df_2022[numeric_columns].drop(columns='all_nba'))\n",
    "\n",
    "df_2022[df_2022['all_nba_pred'] == 1][['all_nba', 'all_nba_pred']].head(30)"
   ]
  },
  {
   "cell_type": "code",
   "execution_count": 81,
   "metadata": {
    "scrolled": false
   },
   "outputs": [
    {
     "data": {
      "text/html": [
       "<div>\n",
       "<style scoped>\n",
       "    .dataframe tbody tr th:only-of-type {\n",
       "        vertical-align: middle;\n",
       "    }\n",
       "\n",
       "    .dataframe tbody tr th {\n",
       "        vertical-align: top;\n",
       "    }\n",
       "\n",
       "    .dataframe thead th {\n",
       "        text-align: right;\n",
       "    }\n",
       "</style>\n",
       "<table border=\"1\" class=\"dataframe\">\n",
       "  <thead>\n",
       "    <tr style=\"text-align: right;\">\n",
       "      <th></th>\n",
       "      <th>all_nba</th>\n",
       "      <th>all_nba_pred</th>\n",
       "      <th>all_nba_prob</th>\n",
       "    </tr>\n",
       "    <tr>\n",
       "      <th>Player</th>\n",
       "      <th></th>\n",
       "      <th></th>\n",
       "      <th></th>\n",
       "    </tr>\n",
       "  </thead>\n",
       "  <tbody>\n",
       "    <tr>\n",
       "      <th>Joel Embiid</th>\n",
       "      <td>1</td>\n",
       "      <td>1</td>\n",
       "      <td>0.999997</td>\n",
       "    </tr>\n",
       "    <tr>\n",
       "      <th>Nikola Jokić</th>\n",
       "      <td>1</td>\n",
       "      <td>1</td>\n",
       "      <td>0.999997</td>\n",
       "    </tr>\n",
       "    <tr>\n",
       "      <th>Giannis Antetokounmpo</th>\n",
       "      <td>1</td>\n",
       "      <td>1</td>\n",
       "      <td>0.999994</td>\n",
       "    </tr>\n",
       "    <tr>\n",
       "      <th>Trae Young</th>\n",
       "      <td>1</td>\n",
       "      <td>1</td>\n",
       "      <td>0.989663</td>\n",
       "    </tr>\n",
       "    <tr>\n",
       "      <th>DeMar DeRozan</th>\n",
       "      <td>1</td>\n",
       "      <td>1</td>\n",
       "      <td>0.959947</td>\n",
       "    </tr>\n",
       "    <tr>\n",
       "      <th>Luka Dončić</th>\n",
       "      <td>1</td>\n",
       "      <td>1</td>\n",
       "      <td>0.949486</td>\n",
       "    </tr>\n",
       "    <tr>\n",
       "      <th>LeBron James</th>\n",
       "      <td>1</td>\n",
       "      <td>1</td>\n",
       "      <td>0.940671</td>\n",
       "    </tr>\n",
       "    <tr>\n",
       "      <th>Kevin Durant</th>\n",
       "      <td>1</td>\n",
       "      <td>0</td>\n",
       "      <td>0.904329</td>\n",
       "    </tr>\n",
       "    <tr>\n",
       "      <th>Jayson Tatum</th>\n",
       "      <td>1</td>\n",
       "      <td>0</td>\n",
       "      <td>0.890612</td>\n",
       "    </tr>\n",
       "    <tr>\n",
       "      <th>Karl-Anthony Towns</th>\n",
       "      <td>1</td>\n",
       "      <td>0</td>\n",
       "      <td>0.874002</td>\n",
       "    </tr>\n",
       "    <tr>\n",
       "      <th>James Harden</th>\n",
       "      <td>0</td>\n",
       "      <td>0</td>\n",
       "      <td>0.812120</td>\n",
       "    </tr>\n",
       "    <tr>\n",
       "      <th>Stephen Curry</th>\n",
       "      <td>1</td>\n",
       "      <td>0</td>\n",
       "      <td>0.653459</td>\n",
       "    </tr>\n",
       "    <tr>\n",
       "      <th>Rudy Gobert</th>\n",
       "      <td>0</td>\n",
       "      <td>0</td>\n",
       "      <td>0.646831</td>\n",
       "    </tr>\n",
       "    <tr>\n",
       "      <th>Ja Morant</th>\n",
       "      <td>1</td>\n",
       "      <td>0</td>\n",
       "      <td>0.367006</td>\n",
       "    </tr>\n",
       "    <tr>\n",
       "      <th>Devin Booker</th>\n",
       "      <td>1</td>\n",
       "      <td>0</td>\n",
       "      <td>0.359720</td>\n",
       "    </tr>\n",
       "    <tr>\n",
       "      <th>Donovan Mitchell</th>\n",
       "      <td>0</td>\n",
       "      <td>0</td>\n",
       "      <td>0.295736</td>\n",
       "    </tr>\n",
       "    <tr>\n",
       "      <th>Dejounte Murray</th>\n",
       "      <td>0</td>\n",
       "      <td>0</td>\n",
       "      <td>0.267904</td>\n",
       "    </tr>\n",
       "    <tr>\n",
       "      <th>Zach LaVine</th>\n",
       "      <td>0</td>\n",
       "      <td>0</td>\n",
       "      <td>0.203983</td>\n",
       "    </tr>\n",
       "    <tr>\n",
       "      <th>Pascal Siakam</th>\n",
       "      <td>1</td>\n",
       "      <td>0</td>\n",
       "      <td>0.161387</td>\n",
       "    </tr>\n",
       "    <tr>\n",
       "      <th>Darius Garland</th>\n",
       "      <td>0</td>\n",
       "      <td>0</td>\n",
       "      <td>0.142686</td>\n",
       "    </tr>\n",
       "  </tbody>\n",
       "</table>\n",
       "</div>"
      ],
      "text/plain": [
       "                       all_nba  all_nba_pred  all_nba_prob\n",
       "Player                                                    \n",
       "Joel Embiid                  1             1      0.999997\n",
       "Nikola Jokić                 1             1      0.999997\n",
       "Giannis Antetokounmpo        1             1      0.999994\n",
       "Trae Young                   1             1      0.989663\n",
       "DeMar DeRozan                1             1      0.959947\n",
       "Luka Dončić                  1             1      0.949486\n",
       "LeBron James                 1             1      0.940671\n",
       "Kevin Durant                 1             0      0.904329\n",
       "Jayson Tatum                 1             0      0.890612\n",
       "Karl-Anthony Towns           1             0      0.874002\n",
       "James Harden                 0             0      0.812120\n",
       "Stephen Curry                1             0      0.653459\n",
       "Rudy Gobert                  0             0      0.646831\n",
       "Ja Morant                    1             0      0.367006\n",
       "Devin Booker                 1             0      0.359720\n",
       "Donovan Mitchell             0             0      0.295736\n",
       "Dejounte Murray              0             0      0.267904\n",
       "Zach LaVine                  0             0      0.203983\n",
       "Pascal Siakam                1             0      0.161387\n",
       "Darius Garland               0             0      0.142686"
      ]
     },
     "execution_count": 81,
     "metadata": {},
     "output_type": "execute_result"
    }
   ],
   "source": [
    "df_2022['all_nba_prob'] = gs.predict_proba(df_2022[numeric_columns].drop(columns='all_nba'))[:,1]\n",
    "\n",
    "df_2022[['all_nba', 'all_nba_pred', 'all_nba_prob']].sort_values('all_nba_prob', ascending = False).head(20)"
   ]
  }
 ],
 "metadata": {
  "kernelspec": {
   "display_name": "Python 3 (ipykernel)",
   "language": "python",
   "name": "python3"
  },
  "language_info": {
   "codemirror_mode": {
    "name": "ipython",
    "version": 3
   },
   "file_extension": ".py",
   "mimetype": "text/x-python",
   "name": "python",
   "nbconvert_exporter": "python",
   "pygments_lexer": "ipython3",
   "version": "3.8.12"
  }
 },
 "nbformat": 4,
 "nbformat_minor": 2
}
